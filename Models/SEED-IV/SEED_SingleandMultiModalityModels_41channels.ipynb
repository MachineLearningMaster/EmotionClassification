{
  "nbformat": 4,
  "nbformat_minor": 0,
  "metadata": {
    "colab": {
      "name": "SEED_SingleandMultiModalityModels_41channels.ipynb",
      "provenance": [],
      "collapsed_sections": []
    },
    "kernelspec": {
      "name": "python3",
      "display_name": "Python 3"
    }
  },
  "cells": [
    {
      "cell_type": "code",
      "metadata": {
        "id": "7jCbIaObyvqn",
        "colab_type": "code",
        "colab": {
          "base_uri": "https://localhost:8080/",
          "height": 17
        },
        "outputId": "63499691-62ae-4ffa-da8a-1a64dde75856"
      },
      "source": [
        "from IPython.core.display import display, HTML\n",
        "display(HTML(\"<style>.container { width:95% !important; }</style>\"))"
      ],
      "execution_count": null,
      "outputs": [
        {
          "output_type": "display_data",
          "data": {
            "text/html": [
              "<style>.container { width:95% !important; }</style>"
            ],
            "text/plain": [
              "<IPython.core.display.HTML object>"
            ]
          },
          "metadata": {
            "tags": []
          }
        }
      ]
    },
    {
      "cell_type": "code",
      "metadata": {
        "id": "ogCUcYecy2ZL",
        "colab_type": "code",
        "colab": {
          "base_uri": "https://localhost:8080/",
          "height": 125
        },
        "outputId": "9a3c1476-4557-4245-fb71-450a8e4039eb"
      },
      "source": [
        "from google.colab import drive\n",
        "drive.mount('/content/drive')"
      ],
      "execution_count": null,
      "outputs": [
        {
          "output_type": "stream",
          "text": [
            "Go to this URL in a browser: https://accounts.google.com/o/oauth2/auth?client_id=947318989803-6bn6qk8qdgf4n4g3pfee6491hc0brc4i.apps.googleusercontent.com&redirect_uri=urn%3aietf%3awg%3aoauth%3a2.0%3aoob&response_type=code&scope=email%20https%3a%2f%2fwww.googleapis.com%2fauth%2fdocs.test%20https%3a%2f%2fwww.googleapis.com%2fauth%2fdrive%20https%3a%2f%2fwww.googleapis.com%2fauth%2fdrive.photos.readonly%20https%3a%2f%2fwww.googleapis.com%2fauth%2fpeopleapi.readonly\n",
            "\n",
            "Enter your authorization code:\n",
            "··········\n",
            "Mounted at /content/drive\n"
          ],
          "name": "stdout"
        }
      ]
    },
    {
      "cell_type": "code",
      "metadata": {
        "id": "rjRSCj2C9ZmF",
        "colab_type": "code",
        "colab": {}
      },
      "source": [
        "# The are the labels for each of the 24 videos shown to participants in the 3 trials.\n",
        "\n",
        "labels_exp_1=['1','2','3','0','2','0','0','1','0','1','2','1','1','1','2','3','2','2','3','3','0','3','0','3']\n",
        "labels_exp_2=['2','1','3','0','0','2','0','2','3','3','2','3','2','0','1','1','2','1','0','3','0','1','3','1']\n",
        "labels_exp_3=['1','2','2','1','3','3','3','1','1','2','1','0','2','3','3','0','2','3','0','0','2','0','1','0']"
      ],
      "execution_count": null,
      "outputs": []
    },
    {
      "cell_type": "code",
      "metadata": {
        "id": "LEOdD2F9_HeE",
        "colab_type": "code",
        "colab": {
          "base_uri": "https://localhost:8080/",
          "height": 34
        },
        "outputId": "09e478e4-b86f-4c86-c3df-d99e76aa39df"
      },
      "source": [
        "from os import listdir\n",
        "from os.path import isfile, join\n",
        "import numpy as np\n",
        "from scipy.io import loadmat\n",
        "from sklearn import preprocessing\n",
        "from sklearn.model_selection import train_test_split\n",
        "from keras.utils import to_categorical"
      ],
      "execution_count": null,
      "outputs": [
        {
          "output_type": "stream",
          "text": [
            "Using TensorFlow backend.\n"
          ],
          "name": "stderr"
        }
      ]
    },
    {
      "cell_type": "markdown",
      "metadata": {
        "id": "RbvUlMHgZvHM",
        "colab_type": "text"
      },
      "source": [
        "# Preprocessing the input files to pull DE data for 41 channels and all 5 fequency bands"
      ]
    },
    {
      "cell_type": "code",
      "metadata": {
        "id": "j3ox82qQ9b5O",
        "colab_type": "code",
        "colab": {}
      },
      "source": [
        "# Here we are extracting 3 frequency channels for 6 electrodes for DE data\n",
        "file_label=[]\n",
        "dir_paths =['/content/drive/My Drive/SEED-IV/eeg_feature_smooth/1/','/content/drive/My Drive/SEED-IV/eeg_feature_smooth/2/','/content/drive/My Drive/SEED-IV/eeg_feature_smooth/3/']\n",
        "d=1\n",
        "for directory in dir_paths:\n",
        "    files = [f for f in listdir(directory) if isfile(join(directory, f))]\n",
        "    f=1\n",
        "    for file in files:\n",
        "        df = loadmat(directory+file)\n",
        "        columns=list(df.keys())\n",
        "        i=3\n",
        "        subset=[]\n",
        "        while i<99:\n",
        "            subset.append(columns[i])\n",
        "            i=i+4\n",
        "        j=1\n",
        "        for col in subset:\n",
        "            #print(df[col].shape)\n",
        "            channel=[0,1,2,3,4,5,6,7,8,9,10,11,12,13,14,15,16,17,18,19,20,21,22,23,24,25,26,27,28,29,30,31,32,33,34,35,36,37,38,39,40] # Corresponds to channels FT7,T7,TP7,FT8,T8,P8\n",
        "            freq_bands=[0,1,2,3,4]\n",
        "            fr=1\n",
        "            for freq in freq_bands:\n",
        "                for chn in channel:\n",
        "                    # out of the 5 freq bands alpha, beta and gamma contain the most discriminative information\n",
        "                    a1= df[col][chn,:,freq]\n",
        "                    padded_array1 = np.zeros((64, ))\n",
        "                    shape1 = np.shape(a1)\n",
        "                    padded_array1[:shape1[0],] = a1\n",
        "                                       \n",
        "                 \n",
        "                    if chn==0:\n",
        "                        f_channel = padded_array1\n",
        "                        \n",
        "                    else:\n",
        "                        f_channel =np.vstack((f_channel,padded_array1))\n",
        "                        #print(f_channel)\n",
        "                        \n",
        "                if fr==1:\n",
        "                    freq_f_channel=f_channel\n",
        "                    #print(freq_f_channel.shape)\n",
        "                else:\n",
        "                    freq_f_channel=np.vstack((freq_f_channel,f_channel))\n",
        "                fr=fr+1\n",
        "            freq_f_channel.reshape(41,64,5)\n",
        "            #print(freq_f_channel)\n",
        "            if j==1:\n",
        "                trial_data=freq_f_channel\n",
        "            else:\n",
        "                trial_data=np.vstack((trial_data,freq_f_channel))\n",
        "                #print(trial_data.shape)\n",
        "            j=j+1\n",
        "            if directory=='/content/drive/My Drive/SEED-IV/eeg_feature_smooth/1/' and j==25:\n",
        "                file_label.append(labels_exp_1)\n",
        "                #print(file_label)\n",
        "            elif directory=='/content/drive/My Drive/SEED-IV/eeg_feature_smooth/2/' and j==25:\n",
        "                file_label.append(labels_exp_2)\n",
        "            elif directory=='/content/drive/My Drive/SEED-IV/eeg_feature_smooth/3/' and j==25:\n",
        "                file_label.append(labels_exp_3)\n",
        "        if f==1:\n",
        "            file_data=trial_data\n",
        "        else:\n",
        "            file_data=np.vstack((file_data,trial_data))\n",
        "            #print(file_data.shape)\n",
        "        f=f+1\n",
        "    if d==1:\n",
        "        dir_data=file_data\n",
        "    else:\n",
        "        dir_data=np.vstack((dir_data,file_data))\n",
        "        #print(dir_data.shape)\n",
        "    d=d+1\n",
        "\n",
        "flat_list = [item for sublist in file_label for item in sublist]"
      ],
      "execution_count": null,
      "outputs": []
    },
    {
      "cell_type": "code",
      "metadata": {
        "id": "RXNntT-PAmmO",
        "colab_type": "code",
        "colab": {
          "base_uri": "https://localhost:8080/",
          "height": 34
        },
        "outputId": "04529e79-f9ae-45bc-96b8-abd82b452b9a"
      },
      "source": [
        "dir_data.shape"
      ],
      "execution_count": null,
      "outputs": [
        {
          "output_type": "execute_result",
          "data": {
            "text/plain": [
              "(221400, 64)"
            ]
          },
          "metadata": {
            "tags": []
          },
          "execution_count": 9
        }
      ]
    },
    {
      "cell_type": "code",
      "metadata": {
        "id": "zS8QsnAkAzE1",
        "colab_type": "code",
        "colab": {}
      },
      "source": [
        "model_data=dir_data.reshape(1080,5,41,64)"
      ],
      "execution_count": null,
      "outputs": []
    },
    {
      "cell_type": "code",
      "metadata": {
        "id": "-Ayrm6MLESiv",
        "colab_type": "code",
        "colab": {
          "base_uri": "https://localhost:8080/",
          "height": 34
        },
        "outputId": "13061718-b365-4f3d-b3ed-05e1039864c4"
      },
      "source": [
        "len(flat_list)"
      ],
      "execution_count": null,
      "outputs": [
        {
          "output_type": "execute_result",
          "data": {
            "text/plain": [
              "1080"
            ]
          },
          "metadata": {
            "tags": []
          },
          "execution_count": 11
        }
      ]
    },
    {
      "cell_type": "code",
      "metadata": {
        "id": "1jlQbE54D3an",
        "colab_type": "code",
        "colab": {
          "base_uri": "https://localhost:8080/",
          "height": 34
        },
        "outputId": "58e443a5-f36e-48a8-cd30-fbf8ed5a1a43"
      },
      "source": [
        "np.array(flat_list).shape"
      ],
      "execution_count": null,
      "outputs": [
        {
          "output_type": "execute_result",
          "data": {
            "text/plain": [
              "(1080,)"
            ]
          },
          "metadata": {
            "tags": []
          },
          "execution_count": 12
        }
      ]
    },
    {
      "cell_type": "code",
      "metadata": {
        "id": "Kg5-vTSLHCtw",
        "colab_type": "code",
        "colab": {}
      },
      "source": [
        "for i in range(0, len(flat_list)): \n",
        "    flat_list[i] = int(flat_list[i]) "
      ],
      "execution_count": null,
      "outputs": []
    },
    {
      "cell_type": "code",
      "metadata": {
        "id": "E-P8pCa5UC4Q",
        "colab_type": "code",
        "colab": {}
      },
      "source": [
        "# https://github.com/Song-zhenzhen/EEG_emotion_classification_use_CNN-and-RNN/blob/master/CNN%2BRNN.py\n",
        "import numpy as np\n",
        "from keras.utils import to_categorical\n",
        "from keras.layers import Conv1D, GRU, GlobalAveragePooling1D, Activation, Flatten, Dropout, Dense, MaxPool1D\n",
        "from keras.models import Sequential\n",
        "import scipy.io\n",
        "from sklearn import preprocessing\n",
        "from sklearn.model_selection import StratifiedKFold, train_test_split"
      ],
      "execution_count": null,
      "outputs": []
    },
    {
      "cell_type": "code",
      "metadata": {
        "id": "Dfx1FDMR4piF",
        "colab_type": "code",
        "colab": {}
      },
      "source": [
        "min_max_scaler = preprocessing.MinMaxScaler()\n",
        "\n",
        "df_all = min_max_scaler.fit_transform(dir_data)\n",
        "\n",
        "df_all = df_all.reshape(1080,5,41,64)\n",
        "\n",
        "index=np.ones(1080)\n",
        "for i in range(1080):\n",
        "    index[i]=i\n",
        "np.random.shuffle(index)\n",
        "index=index.astype('int64')\n",
        "index_train=index[0:810]\n",
        "index_test=index[810:]\n",
        "x_total = df_all[index_train]\n",
        "y_total = np.array(flat_list)[index_train]\n",
        "x_test = df_all[index_test]\n",
        "y_test = np.array(flat_list)[index_test]\n",
        "x_train, x_valid, y_train, y_valid = train_test_split(x_total, y_total, test_size = 0.2, random_state = 1)\n"
      ],
      "execution_count": null,
      "outputs": []
    },
    {
      "cell_type": "code",
      "metadata": {
        "id": "PVElYgn5u9l_",
        "colab_type": "code",
        "colab": {
          "base_uri": "https://localhost:8080/",
          "height": 34
        },
        "outputId": "a52051cf-4a5e-420d-aca6-8bc2a00adcca"
      },
      "source": [
        "x_train.shape"
      ],
      "execution_count": null,
      "outputs": [
        {
          "output_type": "execute_result",
          "data": {
            "text/plain": [
              "(648, 5, 41, 64)"
            ]
          },
          "metadata": {
            "tags": []
          },
          "execution_count": 16
        }
      ]
    },
    {
      "cell_type": "code",
      "metadata": {
        "id": "gTt63Mx1shXs",
        "colab_type": "code",
        "colab": {}
      },
      "source": [
        "y_train = to_categorical(y_train, num_classes = 4)\n",
        "y_test = to_categorical(y_test, num_classes = 4)\n",
        "y_valid = to_categorical(y_valid, num_classes = 4)"
      ],
      "execution_count": null,
      "outputs": []
    },
    {
      "cell_type": "code",
      "metadata": {
        "id": "GOKKQDWVu0Cm",
        "colab_type": "code",
        "colab": {}
      },
      "source": [
        "%tensorflow_version 2.x\n",
        "from tensorflow.keras.datasets import mnist\n",
        "from tensorflow.keras import backend, models, layers, regularizers\n",
        "from tensorflow.keras.layers import BatchNormalization\n",
        "from tensorflow.keras.utils import to_categorical\n",
        "from tensorflow.keras.callbacks import EarlyStopping\n",
        "from sklearn.model_selection import train_test_split\n",
        "import matplotlib.pyplot as plt\n",
        "import numpy as np\n",
        "import pandas as pd"
      ],
      "execution_count": null,
      "outputs": []
    },
    {
      "cell_type": "markdown",
      "metadata": {
        "id": "t8Mwjff4ZohM",
        "colab_type": "text"
      },
      "source": [
        "# Model 4: Single Modality, using DE data from 41-channels (0-40) and 5-frequency bands (δ , θ ,α, β and γ)"
      ]
    },
    {
      "cell_type": "code",
      "metadata": {
        "id": "qY7w2s-r7quz",
        "colab_type": "code",
        "colab": {}
      },
      "source": [
        "backend.clear_session()\n",
        "model = models.Sequential()\n",
        "model.add(layers.Conv2D(32, (2,2), activation = 'relu', input_shape = (5,41, 64)))\n",
        "model.add(layers.MaxPool2D((2,2)))\n",
        "model.add(BatchNormalization())\n",
        "model.add(layers.Flatten())\n",
        "model.add(layers.Dropout(0.5))\n",
        "model.add(layers.Dense(64, activation='relu'))\n",
        "model.add(layers.Dense(4, activation='softmax'))"
      ],
      "execution_count": null,
      "outputs": []
    },
    {
      "cell_type": "code",
      "metadata": {
        "id": "r_GaFGR-73qf",
        "colab_type": "code",
        "colab": {}
      },
      "source": [
        "model.compile(optimizer = 'adam',\n",
        "               loss = 'categorical_crossentropy',\n",
        "               metrics = ['accuracy'])"
      ],
      "execution_count": null,
      "outputs": []
    },
    {
      "cell_type": "code",
      "metadata": {
        "id": "SK6SEDqi7_WT",
        "colab_type": "code",
        "colab": {
          "base_uri": "https://localhost:8080/",
          "height": 298
        },
        "outputId": "43b860b7-400c-4093-fe9e-27f6249b6cfb"
      },
      "source": [
        "history = model.fit(x_train, \n",
        "          y_train, \n",
        "          epochs = 20, \n",
        "          batch_size = 32,  \n",
        "          validation_data=(x_valid, y_valid),\n",
        "          verbose = 1,\n",
        "          callbacks=[EarlyStopping(monitor='val_accuracy', patience=5, restore_best_weights = True)])"
      ],
      "execution_count": null,
      "outputs": [
        {
          "output_type": "stream",
          "text": [
            "Epoch 1/20\n",
            "21/21 [==============================] - 0s 22ms/step - loss: 1.4554 - accuracy: 0.4306 - val_loss: 1.2887 - val_accuracy: 0.3642\n",
            "Epoch 2/20\n",
            "21/21 [==============================] - 0s 14ms/step - loss: 1.1439 - accuracy: 0.5648 - val_loss: 1.2282 - val_accuracy: 0.5926\n",
            "Epoch 3/20\n",
            "21/21 [==============================] - 0s 13ms/step - loss: 0.9875 - accuracy: 0.5972 - val_loss: 1.1306 - val_accuracy: 0.6975\n",
            "Epoch 4/20\n",
            "21/21 [==============================] - 0s 14ms/step - loss: 0.8198 - accuracy: 0.6574 - val_loss: 1.1044 - val_accuracy: 0.6543\n",
            "Epoch 5/20\n",
            "21/21 [==============================] - 0s 14ms/step - loss: 0.8076 - accuracy: 0.6636 - val_loss: 1.1351 - val_accuracy: 0.5864\n",
            "Epoch 6/20\n",
            "21/21 [==============================] - 0s 13ms/step - loss: 0.7360 - accuracy: 0.6744 - val_loss: 1.0619 - val_accuracy: 0.6420\n",
            "Epoch 7/20\n",
            "21/21 [==============================] - 0s 13ms/step - loss: 0.7541 - accuracy: 0.6836 - val_loss: 1.0100 - val_accuracy: 0.6358\n",
            "Epoch 8/20\n",
            "21/21 [==============================] - 0s 13ms/step - loss: 0.7046 - accuracy: 0.6852 - val_loss: 0.9835 - val_accuracy: 0.6975\n"
          ],
          "name": "stdout"
        }
      ]
    },
    {
      "cell_type": "code",
      "metadata": {
        "id": "6k6RZxgXBQ4m",
        "colab_type": "code",
        "colab": {
          "base_uri": "https://localhost:8080/",
          "height": 608
        },
        "outputId": "06b28727-4204-4ca2-cb0b-06da897b2f5b"
      },
      "source": [
        "history_dict = history.history\n",
        "loss_values = history_dict['loss']\n",
        "val_loss_values = history_dict['val_loss']\n",
        "acc_values = history_dict['accuracy']\n",
        "val_acc_values = history_dict['val_accuracy']\n",
        "epochs = range(1, len(history_dict['accuracy']) + 1)\n",
        "\n",
        "plt.plot(epochs, loss_values, 'bo', label = 'Training loss')\n",
        "plt.plot(epochs, val_loss_values, 'b', label = 'Validation loss')\n",
        "plt.title('Training and validation loss')\n",
        "plt.xlabel('Epochs')\n",
        "plt.ylabel('Loss')\n",
        "plt.legend()\n",
        "plt.show()\n",
        "\n",
        "plt.plot(epochs, acc_values, 'bo', label = 'Training accuracy')\n",
        "plt.plot(epochs, val_acc_values, 'b', label = 'Validation accuracy')\n",
        "plt.title('Training and validation accuracy')\n",
        "plt.xlabel('Epochs')\n",
        "plt.ylabel('Accuracy')\n",
        "plt.legend()\n",
        "plt.show()\n",
        "\n",
        "test_loss, test_acc = model.evaluate(x_test, y_test)\n",
        "print('test_acc:', test_acc)"
      ],
      "execution_count": null,
      "outputs": [
        {
          "output_type": "display_data",
          "data": {
            "image/png": "[encoded data removed]",
            "text/plain": [
              "<Figure size 432x288 with 1 Axes>"
            ]
          },
          "metadata": {
            "tags": [],
            "needs_background": "light"
          }
        },
        {
          "output_type": "display_data",
          "data": {
            "image/png": "[encoded data removed]",
            "text/plain": [
              "<Figure size 432x288 with 1 Axes>"
            ]
          },
          "metadata": {
            "tags": [],
            "needs_background": "light"
          }
        },
        {
          "output_type": "stream",
          "text": [
            "9/9 [==============================] - 0s 3ms/step - loss: 1.1741 - accuracy: 0.6037\n",
            "test_acc: 0.6037036776542664\n"
          ],
          "name": "stdout"
        }
      ]
    },
    {
      "cell_type": "code",
      "metadata": {
        "id": "9UzqxMWMLYH-",
        "colab_type": "code",
        "colab": {}
      },
      "source": [
        "# load eye data in the model\n",
        "file_label=[]\n",
        "dir_paths =['/content/drive/My Drive/SEED-IV/eye_feature_smooth/1/','/content/drive/My Drive/SEED-IV/eye_feature_smooth/2/','/content/drive/My Drive/SEED-IV/eye_feature_smooth/3/']\n",
        "d=1\n",
        "for directory in dir_paths:\n",
        "    files = [f for f in listdir(directory) if isfile(join(directory, f))]\n",
        "\n",
        "    for file in files:\n",
        "        df = loadmat(directory+file)\n",
        "\n",
        "        eye_columns=list(df.keys())[3:]\n",
        "\n",
        "        for col in eye_columns:\n",
        "\n",
        "          a1= df[col]\n",
        "          padded_array1 = np.zeros((31,64))\n",
        "          shape1 = np.shape(a1)\n",
        "          padded_array1[:shape1[0],:shape1[1]] = a1\n",
        "\n",
        "          if d==1:\n",
        "            file_eye_data = padded_array1\n",
        "          else:\n",
        "            #print(padded_array1.shape)\n",
        "            file_eye_data =np.vstack((file_eye_data,padded_array1))\n",
        "          d=d+1"
      ],
      "execution_count": null,
      "outputs": []
    },
    {
      "cell_type": "code",
      "metadata": {
        "id": "dn__s2UnWlPf",
        "colab_type": "code",
        "colab": {
          "base_uri": "https://localhost:8080/",
          "height": 34
        },
        "outputId": "fd3cb678-340e-4a47-c1f7-f4a058cd4276"
      },
      "source": [
        "file_eye_data.shape"
      ],
      "execution_count": null,
      "outputs": [
        {
          "output_type": "execute_result",
          "data": {
            "text/plain": [
              "(33480, 64)"
            ]
          },
          "metadata": {
            "tags": []
          },
          "execution_count": 24
        }
      ]
    },
    {
      "cell_type": "code",
      "metadata": {
        "id": "oPqpUIDcVc4T",
        "colab_type": "code",
        "colab": {}
      },
      "source": [
        "import numpy as np\n",
        "from keras.utils import to_categorical\n",
        "from keras.layers import Conv1D, GRU, GlobalAveragePooling1D, Activation, Flatten, Dropout, Dense, MaxPool1D\n",
        "from keras.models import Sequential\n",
        "import scipy.io\n",
        "from sklearn import preprocessing\n",
        "from sklearn.model_selection import StratifiedKFold, train_test_split\n",
        "min_max_scaler = preprocessing.MinMaxScaler()\n",
        "#ValueError: Found array with dim 3. MinMaxScaler expected <= 2.\n",
        "df_all = min_max_scaler.fit_transform(file_eye_data)\n",
        "eye_data=df_all.reshape(1080,31,64)"
      ],
      "execution_count": null,
      "outputs": []
    },
    {
      "cell_type": "code",
      "metadata": {
        "id": "Putln9ZHY-1C",
        "colab_type": "code",
        "colab": {}
      },
      "source": [
        "index=np.ones(1080)\n",
        "for i in range(1080):\n",
        "    index[i]=i\n",
        "np.random.shuffle(index)\n",
        "index=index.astype('int64')\n",
        "index_train=index[0:810]\n",
        "index_test=index[810:]\n",
        "x_total = eye_data[index_train]\n",
        "y_total = np.array(flat_list)[index_train]\n",
        "x_test = eye_data[index_test]\n",
        "y_test = np.array(flat_list)[index_test]\n",
        "x_train, x_valid, y_train, y_valid = train_test_split(x_total, y_total, test_size = 0.2, random_state = 1)\n",
        "\n",
        "y_train = to_categorical(y_train, num_classes = 4)\n",
        "y_test = to_categorical(y_test, num_classes = 4)\n",
        "y_valid = to_categorical(y_valid, num_classes = 4)"
      ],
      "execution_count": null,
      "outputs": []
    },
    {
      "cell_type": "code",
      "metadata": {
        "id": "OAdpKoXyaYlg",
        "colab_type": "code",
        "colab": {}
      },
      "source": [
        "# This is 2nd run for the model that uses only eye movement data"
      ],
      "execution_count": null,
      "outputs": []
    },
    {
      "cell_type": "code",
      "metadata": {
        "id": "cSIrzQhlZakh",
        "colab_type": "code",
        "colab": {
          "base_uri": "https://localhost:8080/",
          "height": 721
        },
        "outputId": "1a8885df-ab94-43bf-cd67-c8b9164fc9b4"
      },
      "source": [
        "backend.clear_session()\n",
        "\n",
        "model = models.Sequential()\n",
        "model.add(layers.Conv1D(32, 3, activation = 'relu', input_shape = (31, 64)))\n",
        "model.add(layers.MaxPool1D((2)))\n",
        "model.add(BatchNormalization())\n",
        "model.add(layers.Flatten())\n",
        "model.add(layers.Dropout(0.4))\n",
        "model.add(layers.Dense(64, activation='relu'))\n",
        "model.add(layers.Dense(4, activation='softmax'))\n",
        "\n",
        "model.compile(optimizer = 'adam',\n",
        "               loss = 'categorical_crossentropy',\n",
        "               metrics = ['accuracy'])\n",
        "\n",
        "history = model.fit(x_train, \n",
        "          y_train, \n",
        "          epochs = 20, \n",
        "          batch_size = 32,  \n",
        "          validation_data=(x_valid, y_valid),\n",
        "          verbose = 1,\n",
        "          callbacks=[EarlyStopping(monitor='val_accuracy', patience=5, restore_best_weights = True)])"
      ],
      "execution_count": null,
      "outputs": [
        {
          "output_type": "stream",
          "text": [
            "Epoch 1/20\n",
            "21/21 [==============================] - 0s 11ms/step - loss: 1.4432 - accuracy: 0.2886 - val_loss: nan - val_accuracy: 0.4259\n",
            "Epoch 2/20\n",
            "21/21 [==============================] - 0s 6ms/step - loss: 1.2284 - accuracy: 0.4398 - val_loss: nan - val_accuracy: 0.4568\n",
            "Epoch 3/20\n",
            "21/21 [==============================] - 0s 5ms/step - loss: 1.1432 - accuracy: 0.4923 - val_loss: nan - val_accuracy: 0.5000\n",
            "Epoch 4/20\n",
            "21/21 [==============================] - 0s 6ms/step - loss: 1.0696 - accuracy: 0.5185 - val_loss: nan - val_accuracy: 0.4259\n",
            "Epoch 5/20\n",
            "21/21 [==============================] - 0s 6ms/step - loss: 1.0250 - accuracy: 0.5556 - val_loss: nan - val_accuracy: 0.4383\n",
            "Epoch 6/20\n",
            "21/21 [==============================] - 0s 6ms/step - loss: 0.9587 - accuracy: 0.5679 - val_loss: nan - val_accuracy: 0.5062\n",
            "Epoch 7/20\n",
            "21/21 [==============================] - 0s 5ms/step - loss: 0.9350 - accuracy: 0.5910 - val_loss: nan - val_accuracy: 0.5247\n",
            "Epoch 8/20\n",
            "21/21 [==============================] - 0s 6ms/step - loss: 0.8776 - accuracy: 0.6250 - val_loss: nan - val_accuracy: 0.5617\n",
            "Epoch 9/20\n",
            "21/21 [==============================] - 0s 5ms/step - loss: 0.8737 - accuracy: 0.6466 - val_loss: nan - val_accuracy: 0.5988\n",
            "Epoch 10/20\n",
            "21/21 [==============================] - 0s 5ms/step - loss: 0.8142 - accuracy: 0.6404 - val_loss: nan - val_accuracy: 0.6235\n",
            "Epoch 11/20\n",
            "21/21 [==============================] - 0s 6ms/step - loss: 0.8023 - accuracy: 0.6651 - val_loss: nan - val_accuracy: 0.6173\n",
            "Epoch 12/20\n",
            "21/21 [==============================] - 0s 6ms/step - loss: 0.7699 - accuracy: 0.6605 - val_loss: nan - val_accuracy: 0.6173\n",
            "Epoch 13/20\n",
            "21/21 [==============================] - 0s 6ms/step - loss: 0.7641 - accuracy: 0.6451 - val_loss: nan - val_accuracy: 0.6235\n",
            "Epoch 14/20\n",
            "21/21 [==============================] - 0s 6ms/step - loss: 0.7308 - accuracy: 0.6651 - val_loss: nan - val_accuracy: 0.5556\n",
            "Epoch 15/20\n",
            "21/21 [==============================] - 0s 6ms/step - loss: 0.7087 - accuracy: 0.6883 - val_loss: nan - val_accuracy: 0.6358\n",
            "Epoch 16/20\n",
            "21/21 [==============================] - 0s 6ms/step - loss: 0.7154 - accuracy: 0.6898 - val_loss: nan - val_accuracy: 0.5988\n",
            "Epoch 17/20\n",
            "21/21 [==============================] - 0s 6ms/step - loss: 0.7151 - accuracy: 0.6728 - val_loss: nan - val_accuracy: 0.6235\n",
            "Epoch 18/20\n",
            "21/21 [==============================] - 0s 6ms/step - loss: 0.6646 - accuracy: 0.7114 - val_loss: nan - val_accuracy: 0.6667\n",
            "Epoch 19/20\n",
            "21/21 [==============================] - 0s 6ms/step - loss: 0.6971 - accuracy: 0.6960 - val_loss: nan - val_accuracy: 0.6173\n",
            "Epoch 20/20\n",
            "21/21 [==============================] - 0s 6ms/step - loss: 0.6563 - accuracy: 0.7145 - val_loss: nan - val_accuracy: 0.6296\n"
          ],
          "name": "stdout"
        }
      ]
    },
    {
      "cell_type": "code",
      "metadata": {
        "id": "w_AI26TJaD37",
        "colab_type": "code",
        "colab": {
          "base_uri": "https://localhost:8080/",
          "height": 608
        },
        "outputId": "e0945295-a1dc-4528-aaf3-bc4ac45a064e"
      },
      "source": [
        "history_dict = history.history\n",
        "loss_values = history_dict['loss']\n",
        "val_loss_values = history_dict['val_loss']\n",
        "acc_values = history_dict['accuracy']\n",
        "val_acc_values = history_dict['val_accuracy']\n",
        "epochs = range(1, len(history_dict['accuracy']) + 1)\n",
        "\n",
        "plt.plot(epochs, loss_values, 'bo', label = 'Training loss')\n",
        "plt.plot(epochs, val_loss_values, 'b', label = 'Validation loss')\n",
        "plt.title('Training and validation loss')\n",
        "plt.xlabel('Epochs')\n",
        "plt.ylabel('Loss')\n",
        "plt.legend()\n",
        "plt.show()\n",
        "\n",
        "plt.plot(epochs, acc_values, 'bo', label = 'Training accuracy')\n",
        "plt.plot(epochs, val_acc_values, 'b', label = 'Validation accuracy')\n",
        "plt.title('Training and validation accuracy')\n",
        "plt.xlabel('Epochs')\n",
        "plt.ylabel('Accuracy')\n",
        "plt.legend()\n",
        "plt.show()\n",
        "\n",
        "test_loss, test_acc = model.evaluate(x_test, y_test)\n",
        "print('test_acc:', test_acc)"
      ],
      "execution_count": null,
      "outputs": [
        {
          "output_type": "display_data",
          "data": {
            "image/png": "[encoded data removed]",
            "text/plain": [
              "<Figure size 432x288 with 1 Axes>"
            ]
          },
          "metadata": {
            "tags": [],
            "needs_background": "light"
          }
        },
        {
          "output_type": "display_data",
          "data": {
            "image/png": "[encoded data removed]",
            "text/plain": [
              "<Figure size 432x288 with 1 Axes>"
            ]
          },
          "metadata": {
            "tags": [],
            "needs_background": "light"
          }
        },
        {
          "output_type": "stream",
          "text": [
            "9/9 [==============================] - 0s 2ms/step - loss: 0.9683 - accuracy: 0.6963\n",
            "test_acc: 0.6962962746620178\n"
          ],
          "name": "stdout"
        }
      ]
    },
    {
      "cell_type": "code",
      "metadata": {
        "id": "hiMwbwRddblI",
        "colab_type": "code",
        "colab": {}
      },
      "source": [
        "import numpy as np\n",
        "from keras.utils import to_categorical\n",
        "from keras.layers import Conv1D, GRU, GlobalAveragePooling1D, Activation, Flatten, Dropout, Dense, MaxPool1D\n",
        "from keras.models import Sequential\n",
        "import scipy.io\n",
        "from sklearn import preprocessing\n",
        "from sklearn.model_selection import StratifiedKFold, train_test_split"
      ],
      "execution_count": null,
      "outputs": []
    },
    {
      "cell_type": "code",
      "metadata": {
        "id": "P3ObrlCRcbB2",
        "colab_type": "code",
        "colab": {}
      },
      "source": [
        "# Using functional API for multi modal input \n",
        "# eeg data\n",
        "# df_all.shape (33480, 64)\n",
        "# eye data\n",
        "# file_eye_data.shape (33480, 64)\n",
        "\n",
        "min_max_scaler = preprocessing.MinMaxScaler()\n",
        "eeg_data_all = min_max_scaler.fit_transform(dir_data)\n",
        "eye_data_all = min_max_scaler.fit_transform(file_eye_data)\n",
        "\n",
        "eeg_data_reshaped =eeg_data_all.reshape(1080,41,5,64) # switched 41 & 5\n",
        "\n",
        "eye_data_reshaped =eye_data_all.reshape(1080,31,64)\n",
        "\n",
        "index=np.ones(1080)\n",
        "for i in range(1080):\n",
        "    index[i]=i\n",
        "np.random.shuffle(index)\n",
        "index=index.astype('int64')\n",
        "index_train=index[0:810]\n",
        "index_test=index[810:]\n",
        "\n",
        "eeg_x_total = eeg_data_reshaped[index_train]\n",
        "y_total = np.array(flat_list)[index_train]\n",
        "eeg_x_test = eeg_data_reshaped[index_test]\n",
        "y_test = np.array(flat_list)[index_test]\n",
        "eeg_x_train, eeg_x_valid, y_train, y_valid = train_test_split(eeg_x_total, y_total, test_size = 0.2, random_state = 1)\n",
        "\n",
        "eye_x_total = eye_data_reshaped[index_train]\n",
        "\n",
        "eye_x_test = eye_data_reshaped[index_test]\n",
        "\n",
        "eye_x_train, eye_x_valid = train_test_split(eye_x_total, test_size = 0.2, random_state = 1)\n",
        "\n",
        "y_train = to_categorical(y_train, num_classes = 4)\n",
        "y_test = to_categorical(y_test, num_classes = 4)\n",
        "y_valid = to_categorical(y_valid, num_classes = 4)\n",
        "\n",
        "\n"
      ],
      "execution_count": null,
      "outputs": []
    },
    {
      "cell_type": "code",
      "metadata": {
        "id": "TVinkrS2oDw6",
        "colab_type": "code",
        "colab": {
          "base_uri": "https://localhost:8080/",
          "height": 34
        },
        "outputId": "11a69534-882d-4a14-c1e0-546eb9d159ad"
      },
      "source": [
        "eye_x_train .shape"
      ],
      "execution_count": null,
      "outputs": [
        {
          "output_type": "execute_result",
          "data": {
            "text/plain": [
              "(648, 31, 64)"
            ]
          },
          "metadata": {
            "tags": []
          },
          "execution_count": 33
        }
      ]
    },
    {
      "cell_type": "code",
      "metadata": {
        "id": "7kllIQ1YqDyF",
        "colab_type": "code",
        "colab": {
          "base_uri": "https://localhost:8080/",
          "height": 213
        },
        "outputId": "1a09d1b0-d72f-42b0-de22-30cb02d4cc02"
      },
      "source": [
        "!pip show tensorflow"
      ],
      "execution_count": null,
      "outputs": [
        {
          "output_type": "stream",
          "text": [
            "Name: tensorflow\n",
            "Version: 2.2.0\n",
            "Summary: TensorFlow is an open source machine learning framework for everyone.\n",
            "Home-page: https://www.tensorflow.org/\n",
            "Author: Google Inc.\n",
            "Author-email: packages@tensorflow.org\n",
            "License: Apache 2.0\n",
            "Location: /usr/local/lib/python3.6/dist-packages\n",
            "Requires: protobuf, termcolor, six, h5py, absl-py, numpy, opt-einsum, google-pasta, scipy, wheel, grpcio, tensorboard, wrapt, gast, astunparse, keras-preprocessing, tensorflow-estimator\n",
            "Required-by: fancyimpute\n"
          ],
          "name": "stdout"
        }
      ]
    },
    {
      "cell_type": "code",
      "metadata": {
        "id": "iOE4vVikWyH-",
        "colab_type": "code",
        "colab": {}
      },
      "source": [
        "#import tensorflow as tf\n",
        "from keras.models import Model\n",
        "from keras import layers\n",
        "from keras import Input\n",
        "from keras.utils import plot_model"
      ],
      "execution_count": null,
      "outputs": []
    },
    {
      "cell_type": "code",
      "metadata": {
        "id": "uKXv6IVdbmTx",
        "colab_type": "code",
        "colab": {}
      },
      "source": [
        "#from tensorflow.keras import layers\n",
        "from keras.layers import Conv1D, Conv2D, GRU, GlobalAveragePooling1D, Activation, Flatten, Dropout, Dense, MaxPool1D, MaxPool2D, Concatenate\n",
        "# import BatchNormalization\n",
        "from keras.layers.normalization import BatchNormalization\n",
        "from keras.callbacks import EarlyStopping\n",
        "from keras import backend\n",
        "\n",
        "backend.clear_session()"
      ],
      "execution_count": null,
      "outputs": []
    },
    {
      "cell_type": "markdown",
      "metadata": {
        "id": "E28hkk-UaslS",
        "colab_type": "text"
      },
      "source": [
        "# Model 5: Multi-Modal with EEG {using DE data from 41-channels (0-40) and 5-frequency bands (δ , θ ,α, β and γ)} and eye movement data"
      ]
    },
    {
      "cell_type": "code",
      "metadata": {
        "id": "zD-kspCIdV56",
        "colab_type": "code",
        "colab": {
          "base_uri": "https://localhost:8080/",
          "height": 856
        },
        "outputId": "dc68da44-7b38-4b99-8e6d-944e4b3d5910"
      },
      "source": [
        "backend.clear_session()\n",
        "\n",
        "eye_inputs= Input(name='eye_x_train', shape=(31,64,))\n",
        "eeg_inputs= Input(name='eeg_x_train', shape=(41,5,64,))\n",
        "\n",
        "#eeg_inputs = Input(shape=(3,6,64)) #(eeg_x_train)\n",
        "#eye_inputs= Input(shape=(31,64)) #(eye_x_train)\n",
        "\n",
        "\n",
        "C1 = Conv1D(32, 3, activation='relu')(eye_inputs)\n",
        "#M1= MaxPool1D(2)(C1)\n",
        "\n",
        "#norm1 = BatchNormalization() (C1)\n",
        "F1= Flatten()(C1)\n",
        "#drop1=Dropout(0.4) (flat1)\n",
        "#dense1=Dense(64, activation='relu')(drop)\n",
        "#o1 = Dense(32, activation='softmax')(F1)\n",
        "#x=Model(eye_inputs,o1)\n",
        "\n",
        "C2 = Conv2D(32,(3,3), activation = 'relu')(eeg_inputs)\n",
        "#M2= MaxPool2D((2,2))(C2)\n",
        "C3 = Conv2D(32,(3,3), activation = 'relu')(C2)\n",
        "#norm2=BatchNormalization()(C2)\n",
        "F2=Flatten()(C3)\n",
        "#drop2=Dropout(0.4) (flat2)\n",
        "#o2=dense2=Dense(64, activation='relu')(F2)\n",
        "#y=Model(eeg_inputs,o2)\n",
        "\n",
        "# Concatentate\n",
        "merge = Concatenate()([F1, F2])\n",
        "#combined= Concatenate([x.output,y.output])\n",
        "\n",
        "#flat=Flatten()(merge)\n",
        "# Hidden connected layer and output\n",
        "hidden = Dense(64, activation='relu')(merge)\n",
        "drop = Dropout(0.3)(hidden)\n",
        "hidden2 = Dense(64, activation='relu')(drop)\n",
        "\n",
        "out = Dense(4, activation='softmax')(hidden2)\n",
        "\n",
        "#model = Model([eye_inputs,eeg_inputs], out)\n",
        "\n",
        "model=Model([eye_inputs,eeg_inputs],out)\n",
        "\n",
        "from keras.optimizers import SGD, Adam\n",
        "#opt = SGD(lr=0.0001)\n",
        "opt= Adam(lr=0.0001)\n",
        "\n",
        "model.compile(optimizer = 'adam',\n",
        "               loss = 'categorical_crossentropy',\n",
        "               metrics = ['accuracy'])\n",
        "\n",
        "# plot graph\n",
        "plot_model(model)\n",
        "#, show_shapes=True"
      ],
      "execution_count": null,
      "outputs": [
        {
          "output_type": "execute_result",
          "data": {
            "image/png": "[encoded data removed]",
            "text/plain": [
              "<IPython.core.display.Image object>"
            ]
          },
          "metadata": {
            "tags": []
          },
          "execution_count": 79
        }
      ]
    },
    {
      "cell_type": "code",
      "metadata": {
        "id": "hsR8CphBxj3D",
        "colab_type": "code",
        "colab": {
          "base_uri": "https://localhost:8080/",
          "height": 527
        },
        "outputId": "ae9d7cff-4b81-40b6-d2af-d306af11b123"
      },
      "source": [
        "model.summary()"
      ],
      "execution_count": null,
      "outputs": [
        {
          "output_type": "stream",
          "text": [
            "Model: \"model_1\"\n",
            "__________________________________________________________________________________________________\n",
            "Layer (type)                    Output Shape         Param #     Connected to                     \n",
            "==================================================================================================\n",
            "eye_x_train (InputLayer)        (None, 31, 64)       0                                            \n",
            "__________________________________________________________________________________________________\n",
            "eeg_x_train (InputLayer)        (None, 5, 41, 64)    0                                            \n",
            "__________________________________________________________________________________________________\n",
            "conv1d_1 (Conv1D)               (None, 29, 32)       6176        eye_x_train[0][0]                \n",
            "__________________________________________________________________________________________________\n",
            "conv2d_1 (Conv2D)               (None, 3, 39, 32)    18464       eeg_x_train[0][0]                \n",
            "__________________________________________________________________________________________________\n",
            "flatten_1 (Flatten)             (None, 928)          0           conv1d_1[0][0]                   \n",
            "__________________________________________________________________________________________________\n",
            "flatten_2 (Flatten)             (None, 3744)         0           conv2d_1[0][0]                   \n",
            "__________________________________________________________________________________________________\n",
            "concatenate_1 (Concatenate)     (None, 4672)         0           flatten_1[0][0]                  \n",
            "                                                                 flatten_2[0][0]                  \n",
            "__________________________________________________________________________________________________\n",
            "dense_1 (Dense)                 (None, 64)           299072      concatenate_1[0][0]              \n",
            "__________________________________________________________________________________________________\n",
            "dense_2 (Dense)                 (None, 64)           4160        dense_1[0][0]                    \n",
            "__________________________________________________________________________________________________\n",
            "dense_3 (Dense)                 (None, 4)            260         dense_2[0][0]                    \n",
            "==================================================================================================\n",
            "Total params: 328,132\n",
            "Trainable params: 328,132\n",
            "Non-trainable params: 0\n",
            "__________________________________________________________________________________________________\n"
          ],
          "name": "stdout"
        }
      ]
    },
    {
      "cell_type": "code",
      "metadata": {
        "id": "5fhCoK0l22YO",
        "colab_type": "code",
        "colab": {
          "base_uri": "https://localhost:8080/",
          "height": 34
        },
        "outputId": "2a21597a-6551-44b2-b272-5293bdb4eb2f"
      },
      "source": [
        "eeg_x_train.shape"
      ],
      "execution_count": null,
      "outputs": [
        {
          "output_type": "execute_result",
          "data": {
            "text/plain": [
              "(648, 5, 41, 64)"
            ]
          },
          "metadata": {
            "tags": []
          },
          "execution_count": 58
        }
      ]
    },
    {
      "cell_type": "code",
      "metadata": {
        "id": "93SjOIMjsHrN",
        "colab_type": "code",
        "colab": {
          "base_uri": "https://localhost:8080/",
          "height": 633
        },
        "outputId": "c10eef8c-7866-4aa6-b36f-2da4d73f3bbe"
      },
      "source": [
        "history = model.fit([eye_x_train,eeg_x_train], \n",
        "          y_train, \n",
        "          epochs = 50, \n",
        "          batch_size = 16,  \n",
        "          validation_data=([eye_x_valid,eeg_x_valid], y_valid),\n",
        "          verbose = 1 ,\n",
        "          callbacks=[EarlyStopping(monitor='val_accuracy', patience=5, restore_best_weights = True)])"
      ],
      "execution_count": null,
      "outputs": [
        {
          "output_type": "stream",
          "text": [
            "Train on 648 samples, validate on 162 samples\n",
            "Epoch 1/50\n",
            "648/648 [==============================] - 1s 1ms/step - loss: 1.3127 - accuracy: 0.3627 - val_loss: 1.1907 - val_accuracy: 0.4074\n",
            "Epoch 2/50\n",
            "648/648 [==============================] - 1s 879us/step - loss: 1.1861 - accuracy: 0.4583 - val_loss: 1.0958 - val_accuracy: 0.4938\n",
            "Epoch 3/50\n",
            "648/648 [==============================] - 1s 866us/step - loss: 1.0943 - accuracy: 0.4907 - val_loss: 0.9654 - val_accuracy: 0.5309\n",
            "Epoch 4/50\n",
            "648/648 [==============================] - 1s 879us/step - loss: 1.0222 - accuracy: 0.5093 - val_loss: 0.9983 - val_accuracy: 0.4630\n",
            "Epoch 5/50\n",
            "648/648 [==============================] - 1s 922us/step - loss: 0.9545 - accuracy: 0.5509 - val_loss: 0.9155 - val_accuracy: 0.5988\n",
            "Epoch 6/50\n",
            "648/648 [==============================] - 1s 878us/step - loss: 0.8619 - accuracy: 0.6080 - val_loss: 0.7302 - val_accuracy: 0.6049\n",
            "Epoch 7/50\n",
            "648/648 [==============================] - 1s 910us/step - loss: 0.8834 - accuracy: 0.5818 - val_loss: 0.7798 - val_accuracy: 0.6790\n",
            "Epoch 8/50\n",
            "648/648 [==============================] - 1s 890us/step - loss: 0.7692 - accuracy: 0.6389 - val_loss: 0.7074 - val_accuracy: 0.6358\n",
            "Epoch 9/50\n",
            "648/648 [==============================] - 1s 915us/step - loss: 0.7114 - accuracy: 0.6574 - val_loss: 0.7118 - val_accuracy: 0.6543\n",
            "Epoch 10/50\n",
            "648/648 [==============================] - 1s 883us/step - loss: 0.7403 - accuracy: 0.6451 - val_loss: 0.6490 - val_accuracy: 0.6667\n",
            "Epoch 11/50\n",
            "648/648 [==============================] - 1s 900us/step - loss: 0.6536 - accuracy: 0.6590 - val_loss: 0.6177 - val_accuracy: 0.6667\n",
            "Epoch 12/50\n",
            "648/648 [==============================] - 1s 915us/step - loss: 0.6239 - accuracy: 0.6821 - val_loss: 0.6648 - val_accuracy: 0.7099\n",
            "Epoch 13/50\n",
            "648/648 [==============================] - 1s 889us/step - loss: 0.6400 - accuracy: 0.6806 - val_loss: 0.6419 - val_accuracy: 0.6296\n",
            "Epoch 14/50\n",
            "648/648 [==============================] - 1s 901us/step - loss: 0.6088 - accuracy: 0.6852 - val_loss: 0.6389 - val_accuracy: 0.6420\n",
            "Epoch 15/50\n",
            "648/648 [==============================] - 1s 888us/step - loss: 0.6252 - accuracy: 0.6790 - val_loss: 0.5960 - val_accuracy: 0.7099\n",
            "Epoch 16/50\n",
            "648/648 [==============================] - 1s 903us/step - loss: 0.6257 - accuracy: 0.6867 - val_loss: 0.6890 - val_accuracy: 0.6667\n",
            "Epoch 17/50\n",
            "648/648 [==============================] - 1s 875us/step - loss: 0.6387 - accuracy: 0.6898 - val_loss: 0.7452 - val_accuracy: 0.6111\n"
          ],
          "name": "stdout"
        }
      ]
    },
    {
      "cell_type": "code",
      "metadata": {
        "id": "jBq5uqBphmgo",
        "colab_type": "code",
        "colab": {}
      },
      "source": [
        "# tools for plotting confusion matrices\n",
        "from matplotlib import pyplot as plt"
      ],
      "execution_count": null,
      "outputs": []
    },
    {
      "cell_type": "code",
      "metadata": {
        "colab_type": "code",
        "id": "oyOpPpo1hnE_",
        "colab": {
          "base_uri": "https://localhost:8080/",
          "height": 608
        },
        "outputId": "872e6f35-8a69-434a-bf0a-c53f0389fd69"
      },
      "source": [
        "history_dict = history.history\n",
        "loss_values = history_dict['loss']\n",
        "val_loss_values = history_dict['val_loss']\n",
        "acc_values = history_dict['accuracy']\n",
        "val_acc_values = history_dict['val_accuracy']\n",
        "epochs = range(1, len(history_dict['accuracy']) + 1)\n",
        "\n",
        "plt.plot(epochs, loss_values, 'bo', label = 'Training loss')\n",
        "plt.plot(epochs, val_loss_values, 'b', label = 'Validation loss')\n",
        "plt.title('Training and validation loss')\n",
        "plt.xlabel('Epochs')\n",
        "plt.ylabel('Loss')\n",
        "plt.legend()\n",
        "plt.show()\n",
        "\n",
        "plt.plot(epochs, acc_values, 'bo', label = 'Training accuracy')\n",
        "plt.plot(epochs, val_acc_values, 'b', label = 'Validation accuracy')\n",
        "plt.title('Training and validation accuracy')\n",
        "plt.xlabel('Epochs')\n",
        "plt.ylabel('Accuracy')\n",
        "plt.legend()\n",
        "plt.show()\n",
        "\n",
        "test_loss, test_acc = model.evaluate([eye_x_test,eeg_x_test], y_test)\n",
        "print('test_acc:', test_acc)"
      ],
      "execution_count": null,
      "outputs": [
        {
          "output_type": "display_data",
          "data": {
            "image/png": "[encoded data removed]",
            "text/plain": [
              "<Figure size 432x288 with 1 Axes>"
            ]
          },
          "metadata": {
            "tags": [],
            "needs_background": "light"
          }
        },
        {
          "output_type": "display_data",
          "data": {
            "image/png": "[encoded data removed]",
            "text/plain": [
              "<Figure size 432x288 with 1 Axes>"
            ]
          },
          "metadata": {
            "tags": [],
            "needs_background": "light"
          }
        },
        {
          "output_type": "stream",
          "text": [
            "270/270 [==============================] - 0s 233us/step\n",
            "test_acc: 0.7333333492279053\n"
          ],
          "name": "stdout"
        }
      ]
    }
  ]
}