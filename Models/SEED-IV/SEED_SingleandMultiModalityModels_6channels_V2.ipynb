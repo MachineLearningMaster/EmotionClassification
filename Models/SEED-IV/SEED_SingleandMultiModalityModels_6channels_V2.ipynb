{
  "nbformat": 4,
  "nbformat_minor": 0,
  "metadata": {
    "colab": {
      "name": "SEED_SingleandMultiModalityModels_6channels_V2.ipynb",
      "provenance": [],
      "collapsed_sections": []
    },
    "kernelspec": {
      "name": "python3",
      "display_name": "Python 3"
    }
  },
  "cells": [
    {
      "cell_type": "code",
      "metadata": {
        "id": "7jCbIaObyvqn",
        "colab_type": "code",
        "colab": {
          "base_uri": "https://localhost:8080/",
          "height": 17
        },
        "outputId": "aa15d9ef-9cdd-42b0-a6f1-78a5236b7c68"
      },
      "source": [
        "from IPython.core.display import display, HTML\n",
        "display(HTML(\"<style>.container { width:95% !important; }</style>\"))"
      ],
      "execution_count": null,
      "outputs": [
        {
          "output_type": "display_data",
          "data": {
            "text/html": [
              "<style>.container { width:95% !important; }</style>"
            ],
            "text/plain": [
              "<IPython.core.display.HTML object>"
            ]
          },
          "metadata": {
            "tags": []
          }
        }
      ]
    },
    {
      "cell_type": "code",
      "metadata": {
        "id": "ogCUcYecy2ZL",
        "colab_type": "code",
        "colab": {
          "base_uri": "https://localhost:8080/",
          "height": 125
        },
        "outputId": "ee73bedd-5515-4c09-d4d5-f75b5c7716dc"
      },
      "source": [
        "from google.colab import drive\n",
        "drive.mount('/content/drive')"
      ],
      "execution_count": null,
      "outputs": [
        {
          "output_type": "stream",
          "text": [
            "Go to this URL in a browser: https://accounts.google.com/o/oauth2/auth?client_id=947318989803-6bn6qk8qdgf4n4g3pfee6491hc0brc4i.apps.googleusercontent.com&redirect_uri=urn%3aietf%3awg%3aoauth%3a2.0%3aoob&response_type=code&scope=email%20https%3a%2f%2fwww.googleapis.com%2fauth%2fdocs.test%20https%3a%2f%2fwww.googleapis.com%2fauth%2fdrive%20https%3a%2f%2fwww.googleapis.com%2fauth%2fdrive.photos.readonly%20https%3a%2f%2fwww.googleapis.com%2fauth%2fpeopleapi.readonly\n",
            "\n",
            "Enter your authorization code:\n",
            "··········\n",
            "Mounted at /content/drive\n"
          ],
          "name": "stdout"
        }
      ]
    },
    {
      "cell_type": "code",
      "metadata": {
        "id": "LEOdD2F9_HeE",
        "colab_type": "code",
        "colab": {
          "base_uri": "https://localhost:8080/",
          "height": 34
        },
        "outputId": "fb0a743d-e229-4bfe-be65-f59f051e2035"
      },
      "source": [
        "from os import listdir\n",
        "from os.path import isfile, join\n",
        "import numpy as np\n",
        "from scipy.io import loadmat\n",
        "from sklearn import preprocessing\n",
        "from sklearn.model_selection import train_test_split\n",
        "from keras.utils import to_categorical"
      ],
      "execution_count": null,
      "outputs": [
        {
          "output_type": "stream",
          "text": [
            "Using TensorFlow backend.\n"
          ],
          "name": "stderr"
        }
      ]
    },
    {
      "cell_type": "markdown",
      "metadata": {
        "id": "bqQLhqcYQ3E-",
        "colab_type": "text"
      },
      "source": [
        "## Following section of the code is for pre-processing the data before using in the model. Note that the SEED-IV data used here is kept in the same folder structure as provided from source (no actual data is referenced here)"
      ]
    },
    {
      "cell_type": "code",
      "metadata": {
        "id": "rjRSCj2C9ZmF",
        "colab_type": "code",
        "colab": {}
      },
      "source": [
        "# The are the labels for each of the 24 videos shown to participants in the 3 trials.\n",
        "# The labels 0, 1, 2, and 3 denote neutral, sad, fear, and happy emotions\n",
        "labels_exp_1=['1','2','3','0','2','0','0','1','0','1','2','1','1','1','2','3','2','2','3','3','0','3','0','3']\n",
        "labels_exp_2=['2','1','3','0','0','2','0','2','3','3','2','3','2','0','1','1','2','1','0','3','0','1','3','1']\n",
        "labels_exp_3=['1','2','2','1','3','3','3','1','1','2','1','0','2','3','3','0','2','3','0','0','2','0','1','0']"
      ],
      "execution_count": null,
      "outputs": []
    },
    {
      "cell_type": "code",
      "metadata": {
        "id": "j3ox82qQ9b5O",
        "colab_type": "code",
        "colab": {}
      },
      "source": [
        "# Here we are extracting 3 frequency channels for 6 electrodes for DE data\n",
        "file_label=[]\n",
        "dir_paths =['/content/drive/My Drive/SEED-IV/eeg_feature_smooth/1/','/content/drive/My Drive/SEED-IV/eeg_feature_smooth/2/','/content/drive/My Drive/SEED-IV/eeg_feature_smooth/3/']\n",
        "d=1\n",
        "for directory in dir_paths:\n",
        "    files = [f for f in listdir(directory) if isfile(join(directory, f))]\n",
        "    f=1\n",
        "    for file in files:\n",
        "        df = loadmat(directory+file)\n",
        "        columns=list(df.keys())\n",
        "        '''\n",
        "        The column list generated above should look like this:\n",
        "        dict_keys(['__header__', '__version__', '__globals__', 'de_movingAve1', 'de_LDS1', 'psd_movingAve1', 'psd_LDS1', 'de_movingAve2', 'de_LDS2', 'psd_movingAve2', 'psd_LDS2', 'de_movingAve3', 'de_LDS3', 'psd_movingAve3', 'psd_LDS3', 'de_movingAve4', 'de_LDS4', 'psd_movingAve4', 'psd_LDS4', 'de_movingAve5', 'de_LDS5', 'psd_movingAve5', 'psd_LDS5', 'de_movingAve6', 'de_LDS6', 'psd_movingAve6', 'psd_LDS6', 'de_movingAve7', 'de_LDS7', 'psd_movingAve7', 'psd_LDS7', 'de_movingAve8', 'de_LDS8', 'psd_movingAve8', 'psd_LDS8', 'de_movingAve9', 'de_LDS9', 'psd_movingAve9', 'psd_LDS9', 'de_movingAve10', 'de_LDS10', 'psd_movingAve10', 'psd_LDS10', 'de_movingAve11', 'de_LDS11', 'psd_movingAve11', 'psd_LDS11', 'de_movingAve12', 'de_LDS12', 'psd_movingAve12', 'psd_LDS12', 'de_movingAve13', 'de_LDS13', 'psd_movingAve13', 'psd_LDS13', 'de_movingAve14', 'de_LDS14', 'psd_movingAve14', 'psd_LDS14', 'de_movingAve15', 'de_LDS15', 'psd_movingAve15', 'psd_LDS15', 'de_movingAve16', 'de_LDS16', 'psd_movingAve16', 'psd_LDS16', 'de_movingAve17', 'de_LDS17', 'psd_movingAve17', 'psd_LDS17', 'de_movingAve18', 'de_LDS18', 'psd_movingAve18', 'psd_LDS18', 'de_movingAve19', 'de_LDS19', 'psd_movingAve19', 'psd_LDS19', 'de_movingAve20', 'de_LDS20', 'psd_movingAve20', 'psd_LDS20', 'de_movingAve21', 'de_LDS21', 'psd_movingAve21', 'psd_LDS21', 'de_movingAve22', 'de_LDS22', 'psd_movingAve22', 'psd_LDS22', 'de_movingAve23', 'de_LDS23', 'psd_movingAve23', 'psd_LDS23', 'de_movingAve24', 'de_LDS24', 'psd_movingAve24', 'psd_LDS24'])\n",
        "        We want to pick all the columns that begin with de_movingAve (de_movingAve1....de_movingAve24)\n",
        "        '''\n",
        "        i=3\n",
        "        subset=[]\n",
        "        while i<99:\n",
        "            subset.append(columns[i])\n",
        "            i=i+4\n",
        "        j=1\n",
        "        for col in subset:\n",
        "            #print(df[col].shape)\n",
        "            channel=[14,22,23,31,32,40] # Corresponds to channels FT7,T7,TP7,FT8,T8,P8\n",
        "            freq_bands=[2,3,4] # freq bands alpha, beta and gamma\n",
        "            fr=1\n",
        "            for freq in freq_bands: # out of the 5 freq bands alpha, beta and gamma contain the most discriminative information\n",
        "                for chn in channel: # These channels contains the most information for emotion analysis\n",
        "                    \n",
        "                    a1= df[col][chn,:,freq]\n",
        "                    padded_array1 = np.zeros((64, ))\n",
        "                    shape1 = np.shape(a1)\n",
        "                    padded_array1[:shape1[0],] = a1\n",
        "                                       \n",
        "                 \n",
        "                    if chn==14:\n",
        "                        f_channel = padded_array1\n",
        "                        \n",
        "                    else:\n",
        "                        f_channel =np.vstack((f_channel,padded_array1))\n",
        "                        #print(f_channel)\n",
        "                        \n",
        "                if fr==1:\n",
        "                    freq_f_channel=f_channel\n",
        "                    #print(freq_f_channel.shape)\n",
        "                else:\n",
        "                    freq_f_channel=np.vstack((freq_f_channel,f_channel))\n",
        "                fr=fr+1\n",
        "            freq_f_channel.reshape(6,64,3)\n",
        "            #print(freq_f_channel)\n",
        "            if j==1:\n",
        "                trial_data=freq_f_channel\n",
        "            else:\n",
        "                trial_data=np.vstack((trial_data,freq_f_channel))\n",
        "                #print(trial_data.shape)\n",
        "            j=j+1\n",
        "            # We want to add the labels once we are done reading all the trial data (24) for the subject for experiment conducted on one of the day\n",
        "            if directory=='/content/drive/My Drive/SEED-IV/eeg_feature_smooth/1/' and j==25:\n",
        "                file_label.append(labels_exp_1)\n",
        "                #print(file_label)\n",
        "            elif directory=='/content/drive/My Drive/SEED-IV/eeg_feature_smooth/2/' and j==25:\n",
        "                file_label.append(labels_exp_2)\n",
        "            elif directory=='/content/drive/My Drive/SEED-IV/eeg_feature_smooth/3/' and j==25:\n",
        "                file_label.append(labels_exp_3)\n",
        "        if f==1:\n",
        "            file_data=trial_data\n",
        "        else:\n",
        "            file_data=np.vstack((file_data,trial_data))\n",
        "            #print(file_data.shape)\n",
        "        f=f+1\n",
        "    if d==1:\n",
        "        dir_data=file_data\n",
        "    else:\n",
        "        dir_data=np.vstack((dir_data,file_data))\n",
        "        #print(dir_data.shape)\n",
        "    d=d+1\n",
        "\n",
        "flat_list = [item for sublist in file_label for item in sublist]"
      ],
      "execution_count": null,
      "outputs": []
    },
    {
      "cell_type": "code",
      "metadata": {
        "id": "RXNntT-PAmmO",
        "colab_type": "code",
        "colab": {
          "base_uri": "https://localhost:8080/",
          "height": 34
        },
        "outputId": "4a7c54ec-93be-4c12-c83c-bebdae12f9a0"
      },
      "source": [
        "dir_data.shape"
      ],
      "execution_count": null,
      "outputs": [
        {
          "output_type": "execute_result",
          "data": {
            "text/plain": [
              "(19440, 64)"
            ]
          },
          "metadata": {
            "tags": []
          },
          "execution_count": 7
        }
      ]
    },
    {
      "cell_type": "code",
      "metadata": {
        "id": "zS8QsnAkAzE1",
        "colab_type": "code",
        "colab": {}
      },
      "source": [
        "# Here 1080 are the total data points (15 subject x 24 trials x 3 different days when the trails were conducted=1080)\n",
        "# 3 are the frequency bands we have chosen to use\n",
        "# 6 for the channels that we have selected that have been found in research for having the highest impact on emotions\n",
        "model_data=dir_data.reshape(1080,3,6,64)"
      ],
      "execution_count": null,
      "outputs": []
    },
    {
      "cell_type": "code",
      "metadata": {
        "id": "-Ayrm6MLESiv",
        "colab_type": "code",
        "colab": {
          "base_uri": "https://localhost:8080/",
          "height": 34
        },
        "outputId": "f447d2a4-13d2-4a42-fb1b-f6b7b0e0252a"
      },
      "source": [
        "len(flat_list)"
      ],
      "execution_count": null,
      "outputs": [
        {
          "output_type": "execute_result",
          "data": {
            "text/plain": [
              "1080"
            ]
          },
          "metadata": {
            "tags": []
          },
          "execution_count": 9
        }
      ]
    },
    {
      "cell_type": "code",
      "metadata": {
        "id": "1jlQbE54D3an",
        "colab_type": "code",
        "colab": {
          "base_uri": "https://localhost:8080/",
          "height": 34
        },
        "outputId": "dbf26ce7-388a-4e06-fc5f-837e794f52fa"
      },
      "source": [
        "np.array(flat_list).shape"
      ],
      "execution_count": null,
      "outputs": [
        {
          "output_type": "execute_result",
          "data": {
            "text/plain": [
              "(1080,)"
            ]
          },
          "metadata": {
            "tags": []
          },
          "execution_count": 10
        }
      ]
    },
    {
      "cell_type": "code",
      "metadata": {
        "id": "Kg5-vTSLHCtw",
        "colab_type": "code",
        "colab": {}
      },
      "source": [
        "# converting the labels that show up as float values in array to integer\n",
        "for i in range(0, len(flat_list)): \n",
        "    flat_list[i] = int(flat_list[i]) "
      ],
      "execution_count": null,
      "outputs": []
    },
    {
      "cell_type": "code",
      "metadata": {
        "id": "E-P8pCa5UC4Q",
        "colab_type": "code",
        "colab": {}
      },
      "source": [
        "# https://github.com/Song-zhenzhen/EEG_emotion_classification_use_CNN-and-RNN/blob/master/CNN%2BRNN.py\n",
        "import numpy as np\n",
        "from keras.utils import to_categorical\n",
        "from keras.layers import Conv1D, GRU, GlobalAveragePooling1D, Activation, Flatten, Dropout, Dense, MaxPool1D\n",
        "from keras.models import Sequential\n",
        "import scipy.io\n",
        "from sklearn import preprocessing\n",
        "from sklearn.model_selection import StratifiedKFold, train_test_split"
      ],
      "execution_count": null,
      "outputs": []
    },
    {
      "cell_type": "code",
      "metadata": {
        "id": "Dfx1FDMR4piF",
        "colab_type": "code",
        "colab": {}
      },
      "source": [
        "min_max_scaler = preprocessing.MinMaxScaler()\n",
        "\n",
        "df_all = min_max_scaler.fit_transform(dir_data)\n",
        "\n",
        "df_all = df_all.reshape(1080,3,6,64)\n",
        "\n",
        "index=np.ones(1080)\n",
        "for i in range(1080):\n",
        "    index[i]=i\n",
        "np.random.shuffle(index)\n",
        "index=index.astype('int64')\n",
        "index_train=index[0:810]\n",
        "index_test=index[810:]\n",
        "x_total = df_all[index_train]\n",
        "y_total = np.array(flat_list)[index_train]\n",
        "x_test = df_all[index_test]\n",
        "y_test = np.array(flat_list)[index_test]\n",
        "x_train, x_valid, y_train, y_valid = train_test_split(x_total, y_total, test_size = 0.2, random_state = 1)\n"
      ],
      "execution_count": null,
      "outputs": []
    },
    {
      "cell_type": "code",
      "metadata": {
        "id": "PVElYgn5u9l_",
        "colab_type": "code",
        "colab": {
          "base_uri": "https://localhost:8080/",
          "height": 34
        },
        "outputId": "9deb5014-d80a-4a12-abe8-be845282f968"
      },
      "source": [
        "x_train.shape"
      ],
      "execution_count": null,
      "outputs": [
        {
          "output_type": "execute_result",
          "data": {
            "text/plain": [
              "(648, 3, 6, 64)"
            ]
          },
          "metadata": {
            "tags": []
          },
          "execution_count": 14
        }
      ]
    },
    {
      "cell_type": "code",
      "metadata": {
        "id": "gTt63Mx1shXs",
        "colab_type": "code",
        "colab": {}
      },
      "source": [
        "# convert to categorical labels\n",
        "y_train = to_categorical(y_train, num_classes = 4)\n",
        "y_test = to_categorical(y_test, num_classes = 4)\n",
        "y_valid = to_categorical(y_valid, num_classes = 4)"
      ],
      "execution_count": null,
      "outputs": []
    },
    {
      "cell_type": "code",
      "metadata": {
        "id": "GOKKQDWVu0Cm",
        "colab_type": "code",
        "colab": {}
      },
      "source": [
        "%tensorflow_version 2.x\n",
        "from tensorflow.keras.datasets import mnist\n",
        "from tensorflow.keras import backend, models, layers, regularizers\n",
        "from tensorflow.keras.layers import BatchNormalization\n",
        "from tensorflow.keras.utils import to_categorical\n",
        "from tensorflow.keras.callbacks import EarlyStopping\n",
        "from sklearn.model_selection import train_test_split\n",
        "import matplotlib.pyplot as plt\n",
        "import numpy as np\n",
        "import pandas as pd"
      ],
      "execution_count": null,
      "outputs": []
    },
    {
      "cell_type": "markdown",
      "metadata": {
        "id": "9PUGbDbZWYe5",
        "colab_type": "text"
      },
      "source": [
        "# Model 1: Single Modality, using DE data from 6-channels (FT7, T7, TP7, FT8, T8, P8) and 3-frequency bands (α, β and γ)"
      ]
    },
    {
      "cell_type": "code",
      "metadata": {
        "id": "qY7w2s-r7quz",
        "colab_type": "code",
        "colab": {}
      },
      "source": [
        "# Building our first Sequential model which will make use of the reshaped EEG data for classification\n",
        "backend.clear_session()\n",
        "model = models.Sequential()\n",
        "model.add(layers.Conv2D(32, (2,2), activation = 'relu', input_shape = (3,6, 64)))\n",
        "model.add(layers.MaxPool2D((2,2)))\n",
        "model.add(BatchNormalization())\n",
        "model.add(layers.Flatten())\n",
        "model.add(layers.Dropout(0.5))\n",
        "model.add(layers.Dense(64, activation='relu'))\n",
        "model.add(layers.Dense(4, activation='softmax'))"
      ],
      "execution_count": null,
      "outputs": []
    },
    {
      "cell_type": "code",
      "metadata": {
        "id": "r_GaFGR-73qf",
        "colab_type": "code",
        "colab": {}
      },
      "source": [
        "model.compile(optimizer = 'adam',\n",
        "               loss = 'categorical_crossentropy',\n",
        "               metrics = ['accuracy'])"
      ],
      "execution_count": null,
      "outputs": []
    },
    {
      "cell_type": "code",
      "metadata": {
        "id": "SK6SEDqi7_WT",
        "colab_type": "code",
        "colab": {
          "base_uri": "https://localhost:8080/",
          "height": 474
        },
        "outputId": "a8c63efc-2e87-4500-e2eb-733a28075fdf"
      },
      "source": [
        "history = model.fit(x_train, \n",
        "          y_train, \n",
        "          epochs = 20, \n",
        "          batch_size = 32,  \n",
        "          validation_data=(x_valid, y_valid),\n",
        "          verbose = 1,\n",
        "          callbacks=[EarlyStopping(monitor='val_accuracy', patience=5, restore_best_weights = True)])"
      ],
      "execution_count": null,
      "outputs": [
        {
          "output_type": "stream",
          "text": [
            "Epoch 1/20\n",
            "21/21 [==============================] - 0s 5ms/step - loss: 0.7346 - accuracy: 0.6512 - val_loss: 0.8749 - val_accuracy: 0.6235\n",
            "Epoch 2/20\n",
            "21/21 [==============================] - 0s 5ms/step - loss: 0.6860 - accuracy: 0.7006 - val_loss: 0.7976 - val_accuracy: 0.6975\n",
            "Epoch 3/20\n",
            "21/21 [==============================] - 0s 5ms/step - loss: 0.6969 - accuracy: 0.6836 - val_loss: 0.8486 - val_accuracy: 0.6728\n",
            "Epoch 4/20\n",
            "21/21 [==============================] - 0s 5ms/step - loss: 0.6673 - accuracy: 0.6960 - val_loss: 0.7129 - val_accuracy: 0.7037\n",
            "Epoch 5/20\n",
            "21/21 [==============================] - 0s 5ms/step - loss: 0.6471 - accuracy: 0.7176 - val_loss: 0.7203 - val_accuracy: 0.6852\n",
            "Epoch 6/20\n",
            "21/21 [==============================] - 0s 6ms/step - loss: 0.6656 - accuracy: 0.6944 - val_loss: 0.6924 - val_accuracy: 0.7160\n",
            "Epoch 7/20\n",
            "21/21 [==============================] - 0s 5ms/step - loss: 0.6648 - accuracy: 0.6991 - val_loss: 0.7622 - val_accuracy: 0.6852\n",
            "Epoch 8/20\n",
            "21/21 [==============================] - 0s 6ms/step - loss: 0.6590 - accuracy: 0.7114 - val_loss: 0.6310 - val_accuracy: 0.7346\n",
            "Epoch 9/20\n",
            "21/21 [==============================] - 0s 5ms/step - loss: 0.6515 - accuracy: 0.7052 - val_loss: 0.6588 - val_accuracy: 0.7222\n",
            "Epoch 10/20\n",
            "21/21 [==============================] - 0s 5ms/step - loss: 0.6918 - accuracy: 0.7130 - val_loss: 0.6392 - val_accuracy: 0.7160\n",
            "Epoch 11/20\n",
            "21/21 [==============================] - 0s 5ms/step - loss: 0.6750 - accuracy: 0.6852 - val_loss: 0.9274 - val_accuracy: 0.5556\n",
            "Epoch 12/20\n",
            "21/21 [==============================] - 0s 5ms/step - loss: 0.6871 - accuracy: 0.6944 - val_loss: 0.6613 - val_accuracy: 0.7037\n",
            "Epoch 13/20\n",
            "21/21 [==============================] - 0s 5ms/step - loss: 0.6373 - accuracy: 0.7037 - val_loss: 0.5991 - val_accuracy: 0.7099\n"
          ],
          "name": "stdout"
        }
      ]
    },
    {
      "cell_type": "code",
      "metadata": {
        "id": "6k6RZxgXBQ4m",
        "colab_type": "code",
        "colab": {
          "base_uri": "https://localhost:8080/",
          "height": 608
        },
        "outputId": "bbbe4272-3bbe-4531-cc2d-78102d926dd0"
      },
      "source": [
        "history_dict = history.history\n",
        "loss_values = history_dict['loss']\n",
        "val_loss_values = history_dict['val_loss']\n",
        "acc_values = history_dict['accuracy']\n",
        "val_acc_values = history_dict['val_accuracy']\n",
        "epochs = range(1, len(history_dict['accuracy']) + 1)\n",
        "\n",
        "plt.plot(epochs, loss_values, 'bo', label = 'Training loss')\n",
        "plt.plot(epochs, val_loss_values, 'b', label = 'Validation loss')\n",
        "plt.title('Training and validation loss')\n",
        "plt.xlabel('Epochs')\n",
        "plt.ylabel('Loss')\n",
        "plt.legend()\n",
        "plt.show()\n",
        "\n",
        "plt.plot(epochs, acc_values, 'bo', label = 'Training accuracy')\n",
        "plt.plot(epochs, val_acc_values, 'b', label = 'Validation accuracy')\n",
        "plt.title('Training and validation accuracy')\n",
        "plt.xlabel('Epochs')\n",
        "plt.ylabel('Accuracy')\n",
        "plt.legend()\n",
        "plt.show()\n",
        "\n",
        "test_loss, test_acc = model.evaluate(x_test, y_test)\n",
        "print('test_acc:', test_acc)"
      ],
      "execution_count": null,
      "outputs": [
        {
          "output_type": "display_data",
          "data": {
            "image/png": "[encoded data removed]",
            "text/plain": [
              "<Figure size 432x288 with 1 Axes>"
            ]
          },
          "metadata": {
            "tags": [],
            "needs_background": "light"
          }
        },
        {
          "output_type": "display_data",
          "data": {
            "image/png": "[encoded data removed]",
            "text/plain": [
              "<Figure size 432x288 with 1 Axes>"
            ]
          },
          "metadata": {
            "tags": [],
            "needs_background": "light"
          }
        },
        {
          "output_type": "stream",
          "text": [
            "9/9 [==============================] - 0s 2ms/step - loss: 0.6694 - accuracy: 0.6889\n",
            "test_acc: 0.6888889074325562\n"
          ],
          "name": "stdout"
        }
      ]
    },
    {
      "cell_type": "code",
      "metadata": {
        "id": "9UzqxMWMLYH-",
        "colab_type": "code",
        "colab": {}
      },
      "source": [
        "# load eye data in the model\n",
        "file_label=[]\n",
        "dir_paths =['/content/drive/My Drive/SEED-IV/eye_feature_smooth/1/','/content/drive/My Drive/SEED-IV/eye_feature_smooth/2/','/content/drive/My Drive/SEED-IV/eye_feature_smooth/3/']\n",
        "d=1\n",
        "for directory in dir_paths:\n",
        "    files = [f for f in listdir(directory) if isfile(join(directory, f))]\n",
        "\n",
        "    for file in files:\n",
        "        df = loadmat(directory+file)\n",
        "\n",
        "        eye_columns=list(df.keys())[3:]\n",
        "\n",
        "        for col in eye_columns:\n",
        "\n",
        "          a1= df[col]\n",
        "          padded_array1 = np.zeros((31,64))\n",
        "          shape1 = np.shape(a1)\n",
        "          padded_array1[:shape1[0],:shape1[1]] = a1\n",
        "\n",
        "          if d==1:\n",
        "            file_eye_data = padded_array1\n",
        "          else:\n",
        "            #print(padded_array1.shape)\n",
        "            file_eye_data =np.vstack((file_eye_data,padded_array1))\n",
        "          d=d+1"
      ],
      "execution_count": null,
      "outputs": []
    },
    {
      "cell_type": "code",
      "metadata": {
        "id": "dn__s2UnWlPf",
        "colab_type": "code",
        "colab": {
          "base_uri": "https://localhost:8080/",
          "height": 34
        },
        "outputId": "1a8c69ae-ccba-4258-a091-6c4965b93d82"
      },
      "source": [
        "file_eye_data.shape"
      ],
      "execution_count": null,
      "outputs": [
        {
          "output_type": "execute_result",
          "data": {
            "text/plain": [
              "(33480, 64)"
            ]
          },
          "metadata": {
            "tags": []
          },
          "execution_count": 30
        }
      ]
    },
    {
      "cell_type": "code",
      "metadata": {
        "id": "oPqpUIDcVc4T",
        "colab_type": "code",
        "colab": {}
      },
      "source": [
        "import numpy as np\n",
        "from keras.utils import to_categorical\n",
        "from keras.layers import Conv1D, GRU, GlobalAveragePooling1D, Activation, Flatten, Dropout, Dense, MaxPool1D\n",
        "from keras.models import Sequential\n",
        "import scipy.io\n",
        "from sklearn import preprocessing\n",
        "from sklearn.model_selection import StratifiedKFold, train_test_split\n",
        "min_max_scaler = preprocessing.MinMaxScaler()\n",
        "#ValueError: Found array with dim 3. MinMaxScaler expected <= 2.\n",
        "df_all = min_max_scaler.fit_transform(file_eye_data)\n",
        "eye_data=df_all.reshape(1080,31,64)"
      ],
      "execution_count": null,
      "outputs": []
    },
    {
      "cell_type": "code",
      "metadata": {
        "id": "Putln9ZHY-1C",
        "colab_type": "code",
        "colab": {}
      },
      "source": [
        "index=np.ones(1080)\n",
        "for i in range(1080):\n",
        "    index[i]=i\n",
        "np.random.shuffle(index)\n",
        "index=index.astype('int64')\n",
        "index_train=index[0:810]\n",
        "index_test=index[810:]\n",
        "x_total = eye_data[index_train]\n",
        "y_total = np.array(flat_list)[index_train]\n",
        "x_test = eye_data[index_test]\n",
        "y_test = np.array(flat_list)[index_test]\n",
        "x_train, x_valid, y_train, y_valid = train_test_split(x_total, y_total, test_size = 0.2, random_state = 1)\n",
        "\n",
        "y_train = to_categorical(y_train, num_classes = 4)\n",
        "y_test = to_categorical(y_test, num_classes = 4)\n",
        "y_valid = to_categorical(y_valid, num_classes = 4)"
      ],
      "execution_count": null,
      "outputs": []
    },
    {
      "cell_type": "code",
      "metadata": {
        "id": "cSIrzQhlZakh",
        "colab_type": "code",
        "colab": {
          "base_uri": "https://localhost:8080/",
          "height": 721
        },
        "outputId": "81628ca2-7314-4f7b-8093-dceb317f1f1e"
      },
      "source": [
        "backend.clear_session()\n",
        "\n",
        "model = models.Sequential()\n",
        "model.add(layers.Conv1D(32, 3, activation = 'relu', input_shape = (31, 64)))\n",
        "model.add(layers.MaxPool1D((2)))\n",
        "model.add(BatchNormalization())\n",
        "model.add(layers.Flatten())\n",
        "model.add(layers.Dropout(0.4))\n",
        "model.add(layers.Dense(64, activation='relu'))\n",
        "model.add(layers.Dense(4, activation='softmax'))\n",
        "\n",
        "model.compile(optimizer = 'adam',\n",
        "               loss = 'categorical_crossentropy',\n",
        "               metrics = ['accuracy'])\n",
        "\n",
        "history = model.fit(x_train, \n",
        "          y_train, \n",
        "          epochs = 20, \n",
        "          batch_size = 32,  \n",
        "          validation_data=(x_valid, y_valid),\n",
        "          verbose = 1,\n",
        "          callbacks=[EarlyStopping(monitor='val_accuracy', patience=5, restore_best_weights = True)])"
      ],
      "execution_count": null,
      "outputs": [
        {
          "output_type": "stream",
          "text": [
            "Epoch 1/20\n",
            "21/21 [==============================] - 0s 13ms/step - loss: 1.3987 - accuracy: 0.3410 - val_loss: 1.3740 - val_accuracy: 0.3642\n",
            "Epoch 2/20\n",
            "21/21 [==============================] - 0s 7ms/step - loss: 1.2152 - accuracy: 0.4444 - val_loss: 1.3683 - val_accuracy: 0.4383\n",
            "Epoch 3/20\n",
            "21/21 [==============================] - 0s 7ms/step - loss: 1.1500 - accuracy: 0.4568 - val_loss: 1.3584 - val_accuracy: 0.4815\n",
            "Epoch 4/20\n",
            "21/21 [==============================] - 0s 8ms/step - loss: 1.0878 - accuracy: 0.5201 - val_loss: 1.3462 - val_accuracy: 0.4753\n",
            "Epoch 5/20\n",
            "21/21 [==============================] - 0s 7ms/step - loss: 1.0482 - accuracy: 0.5278 - val_loss: 1.3367 - val_accuracy: 0.5123\n",
            "Epoch 6/20\n",
            "21/21 [==============================] - 0s 7ms/step - loss: 1.0311 - accuracy: 0.5370 - val_loss: 1.3290 - val_accuracy: 0.5617\n",
            "Epoch 7/20\n",
            "21/21 [==============================] - 0s 7ms/step - loss: 0.9835 - accuracy: 0.5602 - val_loss: 1.3156 - val_accuracy: 0.5741\n",
            "Epoch 8/20\n",
            "21/21 [==============================] - 0s 7ms/step - loss: 0.9091 - accuracy: 0.6142 - val_loss: 1.2946 - val_accuracy: 0.6049\n",
            "Epoch 9/20\n",
            "21/21 [==============================] - 0s 8ms/step - loss: 0.9261 - accuracy: 0.5910 - val_loss: 1.2744 - val_accuracy: 0.5556\n",
            "Epoch 10/20\n",
            "21/21 [==============================] - 0s 7ms/step - loss: 0.8785 - accuracy: 0.6188 - val_loss: 1.2612 - val_accuracy: 0.5370\n",
            "Epoch 11/20\n",
            "21/21 [==============================] - 0s 7ms/step - loss: 0.8465 - accuracy: 0.6142 - val_loss: 1.2345 - val_accuracy: 0.5370\n",
            "Epoch 12/20\n",
            "21/21 [==============================] - 0s 7ms/step - loss: 0.8195 - accuracy: 0.6358 - val_loss: 1.2186 - val_accuracy: 0.6296\n",
            "Epoch 13/20\n",
            "21/21 [==============================] - 0s 7ms/step - loss: 0.8299 - accuracy: 0.6312 - val_loss: 1.2041 - val_accuracy: 0.6543\n",
            "Epoch 14/20\n",
            "21/21 [==============================] - 0s 7ms/step - loss: 0.7992 - accuracy: 0.6543 - val_loss: 1.1611 - val_accuracy: 0.6605\n",
            "Epoch 15/20\n",
            "21/21 [==============================] - 0s 7ms/step - loss: 0.7864 - accuracy: 0.6435 - val_loss: 1.1402 - val_accuracy: 0.6975\n",
            "Epoch 16/20\n",
            "21/21 [==============================] - 0s 7ms/step - loss: 0.7521 - accuracy: 0.6728 - val_loss: 1.0999 - val_accuracy: 0.6358\n",
            "Epoch 17/20\n",
            "21/21 [==============================] - 0s 7ms/step - loss: 0.7136 - accuracy: 0.7068 - val_loss: 1.0474 - val_accuracy: 0.6111\n",
            "Epoch 18/20\n",
            "21/21 [==============================] - 0s 7ms/step - loss: 0.7531 - accuracy: 0.6775 - val_loss: 1.0495 - val_accuracy: 0.5864\n",
            "Epoch 19/20\n",
            "21/21 [==============================] - 0s 7ms/step - loss: 0.6922 - accuracy: 0.7191 - val_loss: 0.9882 - val_accuracy: 0.6914\n",
            "Epoch 20/20\n",
            "21/21 [==============================] - 0s 7ms/step - loss: 0.7291 - accuracy: 0.6759 - val_loss: 0.9891 - val_accuracy: 0.7099\n"
          ],
          "name": "stdout"
        }
      ]
    },
    {
      "cell_type": "code",
      "metadata": {
        "id": "w_AI26TJaD37",
        "colab_type": "code",
        "colab": {
          "base_uri": "https://localhost:8080/",
          "height": 608
        },
        "outputId": "2d4145ef-0631-49ac-daff-dfcbee89bc27"
      },
      "source": [
        "history_dict = history.history\n",
        "loss_values = history_dict['loss']\n",
        "val_loss_values = history_dict['val_loss']\n",
        "acc_values = history_dict['accuracy']\n",
        "val_acc_values = history_dict['val_accuracy']\n",
        "epochs = range(1, len(history_dict['accuracy']) + 1)\n",
        "\n",
        "plt.plot(epochs, loss_values, 'bo', label = 'Training loss')\n",
        "plt.plot(epochs, val_loss_values, 'b', label = 'Validation loss')\n",
        "plt.title('Training and validation loss')\n",
        "plt.xlabel('Epochs')\n",
        "plt.ylabel('Loss')\n",
        "plt.legend()\n",
        "plt.show()\n",
        "\n",
        "plt.plot(epochs, acc_values, 'bo', label = 'Training accuracy')\n",
        "plt.plot(epochs, val_acc_values, 'b', label = 'Validation accuracy')\n",
        "plt.title('Training and validation accuracy')\n",
        "plt.xlabel('Epochs')\n",
        "plt.ylabel('Accuracy')\n",
        "plt.legend()\n",
        "plt.show()\n",
        "\n",
        "test_loss, test_acc = model.evaluate(x_test, y_test)\n",
        "print('test_acc:', test_acc)"
      ],
      "execution_count": null,
      "outputs": [
        {
          "output_type": "display_data",
          "data": {
            "image/png": "[encoded data removed]",
            "text/plain": [
              "<Figure size 432x288 with 1 Axes>"
            ]
          },
          "metadata": {
            "tags": [],
            "needs_background": "light"
          }
        },
        {
          "output_type": "display_data",
          "data": {
            "image/png": "[encoded data removed]",
            "text/plain": [
              "<Figure size 432x288 with 1 Axes>"
            ]
          },
          "metadata": {
            "tags": [],
            "needs_background": "light"
          }
        },
        {
          "output_type": "stream",
          "text": [
            "9/9 [==============================] - 0s 2ms/step - loss: nan - accuracy: 0.7037\n",
            "test_acc: 0.7037037014961243\n"
          ],
          "name": "stdout"
        }
      ]
    },
    {
      "cell_type": "code",
      "metadata": {
        "id": "hiMwbwRddblI",
        "colab_type": "code",
        "colab": {}
      },
      "source": [
        "import numpy as np\n",
        "from keras.utils import to_categorical\n",
        "from keras.layers import Conv1D, GRU, GlobalAveragePooling1D, Activation, Flatten, Dropout, Dense, MaxPool1D\n",
        "from keras.models import Sequential\n",
        "import scipy.io\n",
        "from sklearn import preprocessing\n",
        "from sklearn.model_selection import StratifiedKFold, train_test_split"
      ],
      "execution_count": null,
      "outputs": []
    },
    {
      "cell_type": "code",
      "metadata": {
        "id": "P3ObrlCRcbB2",
        "colab_type": "code",
        "colab": {}
      },
      "source": [
        "# Using functional API for multi modal input \n",
        "# eeg data\n",
        "# df_all.shape (33480, 64)\n",
        "# eye data\n",
        "# file_eye_data.shape (33480, 64)\n",
        "\n",
        "min_max_scaler = preprocessing.MinMaxScaler()\n",
        "eeg_data_all = min_max_scaler.fit_transform(dir_data)\n",
        "eye_data_all = min_max_scaler.fit_transform(file_eye_data)\n",
        "\n",
        "eeg_data_reshaped =eeg_data_all.reshape(1080,6,3,64)\n",
        "\n",
        "eye_data_reshaped =eye_data_all.reshape(1080,31,64)\n",
        "\n",
        "index=np.ones(1080)\n",
        "for i in range(1080):\n",
        "    index[i]=i\n",
        "np.random.shuffle(index)\n",
        "index=index.astype('int64')\n",
        "index_train=index[0:810]\n",
        "index_test=index[810:]\n",
        "\n",
        "eeg_x_total = eeg_data_reshaped[index_train]\n",
        "y_total = np.array(flat_list)[index_train]\n",
        "eeg_x_test = eeg_data_reshaped[index_test]\n",
        "y_test = np.array(flat_list)[index_test]\n",
        "eeg_x_train, eeg_x_valid, y_train, y_valid = train_test_split(eeg_x_total, y_total, test_size = 0.2, random_state = 1)\n",
        "\n",
        "eye_x_total = eye_data_reshaped[index_train]\n",
        "\n",
        "eye_x_test = eye_data_reshaped[index_test]\n",
        "\n",
        "eye_x_train, eye_x_valid = train_test_split(eye_x_total, test_size = 0.2, random_state = 1)\n",
        "\n",
        "y_train = to_categorical(y_train, num_classes = 4)\n",
        "y_test = to_categorical(y_test, num_classes = 4)\n",
        "y_valid = to_categorical(y_valid, num_classes = 4)\n",
        "\n",
        "\n"
      ],
      "execution_count": null,
      "outputs": []
    },
    {
      "cell_type": "code",
      "metadata": {
        "id": "TVinkrS2oDw6",
        "colab_type": "code",
        "colab": {
          "base_uri": "https://localhost:8080/",
          "height": 34
        },
        "outputId": "b188f336-55b4-4773-fa02-3db37692dee3"
      },
      "source": [
        "eye_x_train .shape"
      ],
      "execution_count": null,
      "outputs": [
        {
          "output_type": "execute_result",
          "data": {
            "text/plain": [
              "(648, 31, 64)"
            ]
          },
          "metadata": {
            "tags": []
          },
          "execution_count": 37
        }
      ]
    },
    {
      "cell_type": "code",
      "metadata": {
        "id": "7kllIQ1YqDyF",
        "colab_type": "code",
        "colab": {
          "base_uri": "https://localhost:8080/",
          "height": 193
        },
        "outputId": "fa944ce3-c76b-44a9-cfd2-936c96b777c4"
      },
      "source": [
        "!pip show tensorflow"
      ],
      "execution_count": null,
      "outputs": [
        {
          "output_type": "stream",
          "text": [
            "Name: tensorflow\n",
            "Version: 2.2.0\n",
            "Summary: TensorFlow is an open source machine learning framework for everyone.\n",
            "Home-page: https://www.tensorflow.org/\n",
            "Author: Google Inc.\n",
            "Author-email: packages@tensorflow.org\n",
            "License: Apache 2.0\n",
            "Location: /usr/local/lib/python3.6/dist-packages\n",
            "Requires: wheel, numpy, opt-einsum, h5py, keras-preprocessing, google-pasta, absl-py, tensorboard, grpcio, wrapt, tensorflow-estimator, six, scipy, gast, protobuf, astunparse, termcolor\n",
            "Required-by: fancyimpute\n"
          ],
          "name": "stdout"
        }
      ]
    },
    {
      "cell_type": "code",
      "metadata": {
        "id": "iOE4vVikWyH-",
        "colab_type": "code",
        "colab": {}
      },
      "source": [
        "#import tensorflow as tf\n",
        "from keras.models import Model\n",
        "from keras import layers\n",
        "from keras import Input\n",
        "from keras.utils import plot_model"
      ],
      "execution_count": null,
      "outputs": []
    },
    {
      "cell_type": "code",
      "metadata": {
        "id": "uKXv6IVdbmTx",
        "colab_type": "code",
        "colab": {}
      },
      "source": [
        "#from tensorflow.keras import layers\n",
        "from keras.layers import Conv1D, Conv2D, GRU, GlobalAveragePooling1D, Activation, Flatten, Dropout, Dense, MaxPool1D, MaxPool2D, Concatenate\n",
        "# import BatchNormalization\n",
        "from keras.layers.normalization import BatchNormalization\n",
        "from keras.callbacks import EarlyStopping\n",
        "from keras import backend\n",
        "\n",
        "backend.clear_session()"
      ],
      "execution_count": null,
      "outputs": []
    },
    {
      "cell_type": "code",
      "metadata": {
        "id": "zD-kspCIdV56",
        "colab_type": "code",
        "colab": {
          "base_uri": "https://localhost:8080/",
          "height": 661
        },
        "outputId": "38469538-f171-475a-8424-b743889ccaec"
      },
      "source": [
        "backend.clear_session()\n",
        "eye_inputs= Input(name='eye_x_train', shape=(31,64,))\n",
        "eeg_inputs= Input(name='eeg_x_train', shape=(6,3,64,))\n",
        "\n",
        "#eeg_inputs = Input(shape=(3,6,64)) #(eeg_x_train)\n",
        "#eye_inputs= Input(shape=(31,64)) #(eye_x_train)\n",
        "\n",
        "\n",
        "C1 = Conv1D(32, 3, activation='relu')(eye_inputs)\n",
        "#M1= MaxPool1D(2)(C1)\n",
        "\n",
        "#norm1 = BatchNormalization() (C1)\n",
        "F1= Flatten()(C1)\n",
        "#drop1=Dropout(0.4) (flat1)\n",
        "#dense1=Dense(64, activation='relu')(drop)\n",
        "#o1 = Dense(32, activation='softmax')(F1)\n",
        "#x=Model(eye_inputs,o1)\n",
        "\n",
        "C2 = Conv2D(64,(2,2), activation = 'relu')(eeg_inputs)\n",
        "#M2= MaxPool2D((2,2))(C2)\n",
        "#norm2=BatchNormalization()(C2)\n",
        "C3 = Conv2D(32,(2,2), activation = 'relu')(C2)\n",
        "F2=Flatten()(C3)\n",
        "#drop2=Dropout(0.4) (flat2)\n",
        "#o2=dense2=Dense(64, activation='relu')(F2)\n",
        "#y=Model(eeg_inputs,o2)\n",
        "\n",
        "# Concatentate\n",
        "merge = Concatenate()([F1, F2])\n",
        "#combined= Concatenate([x.output,y.output])\n",
        "\n",
        "#flat=Flatten()(merge)\n",
        "# Hidden connected layer and output\n",
        "hidden = Dense(32, activation='relu')(merge)\n",
        "#hidden2 = Dense(32, activation='relu')(hidden)\n",
        "#drop = Dropout(0.4)(hidden)\n",
        "out = Dense(4, activation='softmax')(hidden)\n",
        "\n",
        "#model = Model([eye_inputs,eeg_inputs], out)\n",
        "\n",
        "model=Model([eye_inputs,eeg_inputs],out)\n",
        "\n",
        "from keras.optimizers import SGD, Adam\n",
        "#opt = SGD(lr=0.0001)\n",
        "opt= Adam(lr=0.0001)\n",
        "\n",
        "model.compile(optimizer = 'adam',\n",
        "               loss = 'categorical_crossentropy',\n",
        "               metrics = ['accuracy'])\n",
        "\n",
        "# plot graph\n",
        "plot_model(model)\n",
        "#, show_shapes=True"
      ],
      "execution_count": null,
      "outputs": [
        {
          "output_type": "execute_result",
          "data": {
            "image/png": "[encoded data removed]",
            "text/plain": [
              "<IPython.core.display.Image object>"
            ]
          },
          "metadata": {
            "tags": []
          },
          "execution_count": 60
        }
      ]
    },
    {
      "cell_type": "code",
      "metadata": {
        "id": "hsR8CphBxj3D",
        "colab_type": "code",
        "colab": {
          "base_uri": "https://localhost:8080/",
          "height": 527
        },
        "outputId": "70dff754-11b9-4c8b-e74f-2b889109a9b3"
      },
      "source": [
        "model.summary()"
      ],
      "execution_count": null,
      "outputs": [
        {
          "output_type": "stream",
          "text": [
            "Model: \"model_1\"\n",
            "__________________________________________________________________________________________________\n",
            "Layer (type)                    Output Shape         Param #     Connected to                     \n",
            "==================================================================================================\n",
            "eeg_x_train (InputLayer)        (None, 6, 3, 64)     0                                            \n",
            "__________________________________________________________________________________________________\n",
            "eye_x_train (InputLayer)        (None, 31, 64)       0                                            \n",
            "__________________________________________________________________________________________________\n",
            "conv2d_1 (Conv2D)               (None, 5, 2, 64)     16448       eeg_x_train[0][0]                \n",
            "__________________________________________________________________________________________________\n",
            "conv1d_1 (Conv1D)               (None, 29, 32)       6176        eye_x_train[0][0]                \n",
            "__________________________________________________________________________________________________\n",
            "conv2d_2 (Conv2D)               (None, 4, 1, 32)     8224        conv2d_1[0][0]                   \n",
            "__________________________________________________________________________________________________\n",
            "flatten_1 (Flatten)             (None, 928)          0           conv1d_1[0][0]                   \n",
            "__________________________________________________________________________________________________\n",
            "flatten_2 (Flatten)             (None, 128)          0           conv2d_2[0][0]                   \n",
            "__________________________________________________________________________________________________\n",
            "concatenate_1 (Concatenate)     (None, 1056)         0           flatten_1[0][0]                  \n",
            "                                                                 flatten_2[0][0]                  \n",
            "__________________________________________________________________________________________________\n",
            "dense_1 (Dense)                 (None, 32)           33824       concatenate_1[0][0]              \n",
            "__________________________________________________________________________________________________\n",
            "dense_2 (Dense)                 (None, 4)            132         dense_1[0][0]                    \n",
            "==================================================================================================\n",
            "Total params: 64,804\n",
            "Trainable params: 64,804\n",
            "Non-trainable params: 0\n",
            "__________________________________________________________________________________________________\n"
          ],
          "name": "stdout"
        }
      ]
    },
    {
      "cell_type": "code",
      "metadata": {
        "id": "5fhCoK0l22YO",
        "colab_type": "code",
        "colab": {
          "base_uri": "https://localhost:8080/",
          "height": 34
        },
        "outputId": "eddec468-3785-490b-fbf1-db84786b55b9"
      },
      "source": [
        "eeg_x_train.shape"
      ],
      "execution_count": null,
      "outputs": [
        {
          "output_type": "execute_result",
          "data": {
            "text/plain": [
              "(648, 6, 3, 64)"
            ]
          },
          "metadata": {
            "tags": []
          },
          "execution_count": 53
        }
      ]
    },
    {
      "cell_type": "code",
      "metadata": {
        "id": "93SjOIMjsHrN",
        "colab_type": "code",
        "colab": {
          "base_uri": "https://localhost:8080/",
          "height": 844
        },
        "outputId": "2e0c9e33-0089-4b26-f142-ea835bb9ca8c"
      },
      "source": [
        "history = model.fit([eye_x_train,eeg_x_train], \n",
        "          y_train, \n",
        "          epochs = 50, \n",
        "          batch_size = 64,  \n",
        "          validation_data=([eye_x_valid,eeg_x_valid], y_valid),\n",
        "          verbose = 1 ,\n",
        "          callbacks=[EarlyStopping(monitor='val_accuracy', patience=5, restore_best_weights = True)])"
      ],
      "execution_count": null,
      "outputs": [
        {
          "output_type": "stream",
          "text": [
            "Train on 648 samples, validate on 162 samples\n",
            "Epoch 1/50\n",
            "648/648 [==============================] - 0s 444us/step - loss: 1.3623 - accuracy: 0.3194 - val_loss: nan - val_accuracy: 0.4198\n",
            "Epoch 2/50\n",
            "648/648 [==============================] - 0s 178us/step - loss: 1.2700 - accuracy: 0.4244 - val_loss: nan - val_accuracy: 0.4691\n",
            "Epoch 3/50\n",
            "648/648 [==============================] - 0s 190us/step - loss: 1.1708 - accuracy: 0.4892 - val_loss: nan - val_accuracy: 0.5185\n",
            "Epoch 4/50\n",
            "648/648 [==============================] - 0s 199us/step - loss: 1.0917 - accuracy: 0.5046 - val_loss: nan - val_accuracy: 0.4691\n",
            "Epoch 5/50\n",
            "648/648 [==============================] - 0s 183us/step - loss: 1.0131 - accuracy: 0.5710 - val_loss: nan - val_accuracy: 0.5864\n",
            "Epoch 6/50\n",
            "648/648 [==============================] - 0s 186us/step - loss: 0.9360 - accuracy: 0.6127 - val_loss: nan - val_accuracy: 0.5864\n",
            "Epoch 7/50\n",
            "648/648 [==============================] - 0s 192us/step - loss: 0.9284 - accuracy: 0.5988 - val_loss: nan - val_accuracy: 0.5802\n",
            "Epoch 8/50\n",
            "648/648 [==============================] - 0s 179us/step - loss: 0.8959 - accuracy: 0.6096 - val_loss: nan - val_accuracy: 0.5864\n",
            "Epoch 9/50\n",
            "648/648 [==============================] - 0s 181us/step - loss: 0.8100 - accuracy: 0.6590 - val_loss: nan - val_accuracy: 0.7037\n",
            "Epoch 10/50\n",
            "648/648 [==============================] - 0s 185us/step - loss: 0.7528 - accuracy: 0.6914 - val_loss: nan - val_accuracy: 0.6790\n",
            "Epoch 11/50\n",
            "648/648 [==============================] - 0s 176us/step - loss: 0.7303 - accuracy: 0.7006 - val_loss: nan - val_accuracy: 0.6605\n",
            "Epoch 12/50\n",
            "648/648 [==============================] - 0s 173us/step - loss: 0.6865 - accuracy: 0.7068 - val_loss: nan - val_accuracy: 0.6975\n",
            "Epoch 13/50\n",
            "648/648 [==============================] - 0s 180us/step - loss: 0.6449 - accuracy: 0.7238 - val_loss: nan - val_accuracy: 0.6852\n",
            "Epoch 14/50\n",
            "648/648 [==============================] - 0s 213us/step - loss: 0.6313 - accuracy: 0.7423 - val_loss: nan - val_accuracy: 0.7099\n",
            "Epoch 15/50\n",
            "648/648 [==============================] - 0s 198us/step - loss: 0.6242 - accuracy: 0.7253 - val_loss: nan - val_accuracy: 0.7160\n",
            "Epoch 16/50\n",
            "648/648 [==============================] - 0s 179us/step - loss: 0.6453 - accuracy: 0.7222 - val_loss: nan - val_accuracy: 0.7160\n",
            "Epoch 17/50\n",
            "648/648 [==============================] - 0s 176us/step - loss: 0.5885 - accuracy: 0.7207 - val_loss: nan - val_accuracy: 0.6975\n",
            "Epoch 18/50\n",
            "648/648 [==============================] - 0s 176us/step - loss: 0.5609 - accuracy: 0.7485 - val_loss: nan - val_accuracy: 0.7346\n",
            "Epoch 19/50\n",
            "648/648 [==============================] - 0s 174us/step - loss: 0.5376 - accuracy: 0.7562 - val_loss: nan - val_accuracy: 0.6790\n",
            "Epoch 20/50\n",
            "648/648 [==============================] - 0s 181us/step - loss: 0.6031 - accuracy: 0.7423 - val_loss: nan - val_accuracy: 0.7037\n",
            "Epoch 21/50\n",
            "648/648 [==============================] - 0s 184us/step - loss: 0.5147 - accuracy: 0.7546 - val_loss: nan - val_accuracy: 0.7099\n",
            "Epoch 22/50\n",
            "648/648 [==============================] - 0s 183us/step - loss: 0.5833 - accuracy: 0.7114 - val_loss: nan - val_accuracy: 0.6543\n",
            "Epoch 23/50\n",
            "648/648 [==============================] - 0s 219us/step - loss: 0.6096 - accuracy: 0.7438 - val_loss: nan - val_accuracy: 0.6667\n"
          ],
          "name": "stdout"
        }
      ]
    },
    {
      "cell_type": "code",
      "metadata": {
        "id": "jBq5uqBphmgo",
        "colab_type": "code",
        "colab": {}
      },
      "source": [
        "# tools for plotting confusion matrices\n",
        "from matplotlib import pyplot as plt"
      ],
      "execution_count": null,
      "outputs": []
    },
    {
      "cell_type": "code",
      "metadata": {
        "colab_type": "code",
        "id": "oyOpPpo1hnE_",
        "colab": {
          "base_uri": "https://localhost:8080/",
          "height": 608
        },
        "outputId": "5922e178-1a7b-4575-9516-56e4daa401c0"
      },
      "source": [
        "history_dict = history.history\n",
        "loss_values = history_dict['loss']\n",
        "val_loss_values = history_dict['val_loss']\n",
        "acc_values = history_dict['accuracy']\n",
        "val_acc_values = history_dict['val_accuracy']\n",
        "epochs = range(1, len(history_dict['accuracy']) + 1)\n",
        "\n",
        "plt.plot(epochs, loss_values, 'bo', label = 'Training loss')\n",
        "plt.plot(epochs, val_loss_values, 'b', label = 'Validation loss')\n",
        "plt.title('Training and validation loss')\n",
        "plt.xlabel('Epochs')\n",
        "plt.ylabel('Loss')\n",
        "plt.legend()\n",
        "plt.show()\n",
        "\n",
        "plt.plot(epochs, acc_values, 'bo', label = 'Training accuracy')\n",
        "plt.plot(epochs, val_acc_values, 'b', label = 'Validation accuracy')\n",
        "plt.title('Training and validation accuracy')\n",
        "plt.xlabel('Epochs')\n",
        "plt.ylabel('Accuracy')\n",
        "plt.legend()\n",
        "plt.show()\n",
        "\n",
        "test_loss, test_acc = model.evaluate([eye_x_test,eeg_x_test], y_test)\n",
        "print('test_acc:', test_acc)"
      ],
      "execution_count": null,
      "outputs": [
        {
          "output_type": "display_data",
          "data": {
            "image/png": "[encoded data removed]",
            "text/plain": [
              "<Figure size 432x288 with 1 Axes>"
            ]
          },
          "metadata": {
            "tags": [],
            "needs_background": "light"
          }
        },
        {
          "output_type": "display_data",
          "data": {
            "image/png": "[encoded data removed]",
            "text/plain": [
              "<Figure size 432x288 with 1 Axes>"
            ]
          },
          "metadata": {
            "tags": [],
            "needs_background": "light"
          }
        },
        {
          "output_type": "stream",
          "text": [
            "270/270 [==============================] - 0s 100us/step\n",
            "test_acc: 0.7111111283302307\n"
          ],
          "name": "stdout"
        }
      ]
    },
    {
      "cell_type": "code",
      "metadata": {
        "id": "_h0_XXuocRDN",
        "colab_type": "code",
        "colab": {}
      },
      "source": [
        "from sklearn.metrics import classification_report,confusion_matrix\n",
        "\n",
        "y_predict= model.predict([eye_x_test,eeg_x_test])"
      ],
      "execution_count": null,
      "outputs": []
    },
    {
      "cell_type": "code",
      "metadata": {
        "id": "wDYGbiVFcqpL",
        "colab_type": "code",
        "colab": {}
      },
      "source": [
        "# Since the predicted values have probabilities we convert it to integers. Given lower value at 0.45\n",
        "y_predict[y_predict > 0.45] = 1\n",
        "y_predict[y_predict <= 0.45] = 0"
      ],
      "execution_count": null,
      "outputs": []
    },
    {
      "cell_type": "code",
      "metadata": {
        "id": "c8D9qOJseoYs",
        "colab_type": "code",
        "colab": {
          "base_uri": "https://localhost:8080/",
          "height": 140
        },
        "outputId": "0f3f5065-1595-47b1-e63d-64a4fe76b4d9"
      },
      "source": [
        "y_predict"
      ],
      "execution_count": null,
      "outputs": [
        {
          "output_type": "execute_result",
          "data": {
            "text/plain": [
              "array([[0., 0., 0., 1.],\n",
              "       [0., 1., 0., 0.],\n",
              "       [0., 0., 1., 0.],\n",
              "       ...,\n",
              "       [1., 0., 0., 0.],\n",
              "       [0., 0., 1., 0.],\n",
              "       [0., 1., 0., 0.]], dtype=float32)"
            ]
          },
          "metadata": {
            "tags": []
          },
          "execution_count": 83
        }
      ]
    },
    {
      "cell_type": "code",
      "metadata": {
        "id": "bwaiE42mf3px",
        "colab_type": "code",
        "colab": {}
      },
      "source": [
        "# convert the encoded labels to the original labels\n",
        "y_predict_2=np.argmax(y_predict, axis = 1)"
      ],
      "execution_count": null,
      "outputs": []
    },
    {
      "cell_type": "code",
      "metadata": {
        "id": "2Pd5FHxlf_RP",
        "colab_type": "code",
        "colab": {
          "base_uri": "https://localhost:8080/",
          "height": 246
        },
        "outputId": "30ba86ea-f699-422e-a83a-e45fe5f1f9e8"
      },
      "source": [
        "y_predict_2"
      ],
      "execution_count": null,
      "outputs": [
        {
          "output_type": "execute_result",
          "data": {
            "text/plain": [
              "array([3, 1, 2, 2, 2, 3, 2, 2, 0, 0, 1, 0, 2, 1, 0, 3, 0, 0, 3, 0, 0, 0,\n",
              "       0, 0, 0, 2, 0, 3, 2, 1, 3, 0, 3, 2, 3, 2, 1, 1, 1, 3, 1, 3, 0, 3,\n",
              "       2, 0, 1, 0, 1, 3, 2, 1, 1, 2, 1, 2, 2, 1, 3, 1, 1, 0, 0, 2, 1, 1,\n",
              "       0, 3, 3, 3, 3, 3, 3, 1, 1, 1, 0, 2, 1, 0, 1, 2, 1, 3, 2, 2, 3, 0,\n",
              "       0, 1, 2, 3, 3, 2, 3, 2, 0, 0, 2, 0, 1, 1, 3, 1, 1, 1, 0, 2, 2, 0,\n",
              "       0, 1, 1, 2, 3, 3, 3, 0, 3, 3, 1, 2, 1, 1, 0, 0, 0, 2, 0, 0, 3, 1,\n",
              "       2, 3, 2, 2, 3, 1, 0, 0, 1, 0, 2, 2, 3, 3, 1, 2, 0, 1, 1, 0, 1, 0,\n",
              "       2, 1, 1, 2, 0, 3, 3, 0, 1, 3, 3, 0, 0, 1, 0, 3, 3, 2, 1, 0, 3, 1,\n",
              "       1, 2, 0, 3, 1, 2, 3, 0, 0, 3, 2, 0, 3, 0, 1, 1, 3, 3, 1, 2, 0, 1,\n",
              "       1, 3, 2, 3, 2, 0, 3, 3, 1, 1, 3, 3, 2, 2, 2, 1, 2, 1, 2, 3, 0, 3,\n",
              "       1, 3, 1, 1, 2, 1, 1, 0, 1, 3, 3, 1, 1, 1, 1, 1, 1, 1, 2, 1, 3, 1,\n",
              "       1, 1, 2, 2, 1, 3, 0, 1, 3, 2, 2, 1, 2, 2, 1, 1, 1, 2, 0, 2, 0, 2,\n",
              "       0, 0, 0, 0, 2, 1])"
            ]
          },
          "metadata": {
            "tags": []
          },
          "execution_count": 89
        }
      ]
    },
    {
      "cell_type": "code",
      "metadata": {
        "id": "2hIVNHXOeA8R",
        "colab_type": "code",
        "colab": {}
      },
      "source": [
        "# convert the encoded labels to the original labels\n",
        "y_test_2=np.argmax(y_test, axis = 1)"
      ],
      "execution_count": null,
      "outputs": []
    },
    {
      "cell_type": "code",
      "metadata": {
        "id": "v2hP3-7pgNIZ",
        "colab_type": "code",
        "colab": {
          "base_uri": "https://localhost:8080/",
          "height": 246
        },
        "outputId": "39c5c064-c6f3-42e7-865b-5f53f0a6a4d6"
      },
      "source": [
        "y_test_2"
      ],
      "execution_count": null,
      "outputs": [
        {
          "output_type": "execute_result",
          "data": {
            "text/plain": [
              "array([2, 1, 2, 2, 2, 3, 1, 2, 0, 0, 1, 1, 0, 1, 2, 3, 0, 3, 3, 0, 0, 0,\n",
              "       2, 0, 0, 2, 2, 3, 2, 2, 3, 0, 3, 2, 1, 0, 3, 1, 1, 3, 1, 3, 0, 3,\n",
              "       2, 0, 1, 0, 1, 3, 1, 1, 1, 2, 1, 0, 2, 3, 3, 1, 1, 2, 0, 2, 3, 1,\n",
              "       0, 3, 3, 3, 3, 0, 3, 3, 1, 1, 0, 2, 1, 0, 3, 2, 2, 3, 2, 2, 3, 0,\n",
              "       2, 1, 0, 3, 3, 2, 3, 2, 0, 0, 2, 0, 3, 1, 1, 1, 1, 0, 0, 2, 3, 2,\n",
              "       0, 0, 0, 2, 3, 3, 3, 0, 3, 3, 3, 2, 1, 1, 0, 0, 0, 0, 0, 0, 2, 1,\n",
              "       2, 0, 2, 2, 3, 1, 0, 3, 1, 0, 2, 2, 2, 1, 3, 0, 0, 3, 1, 0, 3, 2,\n",
              "       2, 3, 1, 2, 2, 3, 3, 2, 1, 3, 0, 0, 3, 0, 0, 3, 3, 2, 1, 2, 3, 1,\n",
              "       1, 2, 0, 3, 1, 0, 3, 0, 1, 3, 2, 0, 3, 2, 1, 1, 3, 0, 1, 2, 1, 1,\n",
              "       1, 3, 2, 3, 2, 0, 3, 1, 0, 1, 3, 3, 2, 2, 2, 2, 2, 1, 1, 2, 0, 0,\n",
              "       1, 3, 1, 3, 1, 1, 3, 0, 3, 3, 0, 0, 1, 1, 1, 1, 1, 1, 2, 1, 3, 1,\n",
              "       1, 1, 1, 0, 1, 3, 0, 1, 2, 2, 2, 2, 2, 2, 1, 1, 2, 0, 3, 1, 0, 2,\n",
              "       3, 3, 0, 0, 2, 1])"
            ]
          },
          "metadata": {
            "tags": []
          },
          "execution_count": 91
        }
      ]
    },
    {
      "cell_type": "code",
      "metadata": {
        "id": "HSZeusN5dzdX",
        "colab_type": "code",
        "colab": {}
      },
      "source": [
        "from sklearn.metrics import multilabel_confusion_matrix"
      ],
      "execution_count": null,
      "outputs": []
    },
    {
      "cell_type": "code",
      "metadata": {
        "id": "0VmBjHQDd2I7",
        "colab_type": "code",
        "colab": {
          "base_uri": "https://localhost:8080/",
          "height": 210
        },
        "outputId": "92d2f4d5-230e-4506-dec3-ffbfaa82000c"
      },
      "source": [
        "multilabel_confusion_matrix(y_test_2, y_predict_2)"
      ],
      "execution_count": null,
      "outputs": [
        {
          "output_type": "execute_result",
          "data": {
            "text/plain": [
              "array([[[185,  20],\n",
              "        [ 21,  44]],\n",
              "\n",
              "       [[174,  25],\n",
              "        [ 13,  58]],\n",
              "\n",
              "       [[188,  16],\n",
              "        [ 21,  45]],\n",
              "\n",
              "       [[187,  15],\n",
              "        [ 21,  47]]])"
            ]
          },
          "metadata": {
            "tags": []
          },
          "execution_count": 92
        }
      ]
    },
    {
      "cell_type": "code",
      "metadata": {
        "id": "0IsEjKNNhVln",
        "colab_type": "code",
        "colab": {
          "base_uri": "https://localhost:8080/",
          "height": 228
        },
        "outputId": "cdc6f169-2b26-45e3-90b4-7fa186cc8337"
      },
      "source": [
        "# We will look at the model performance using the Confusion Matrix and Classification Report\n",
        "from sklearn.metrics import classification_report,confusion_matrix\n",
        "print('Classification Report')\n",
        "print(classification_report(y_test_2, y_predict_2, target_names=[\"neutral\",\"sad\",\"fear\",\"happy\"]))"
      ],
      "execution_count": null,
      "outputs": [
        {
          "output_type": "stream",
          "text": [
            "Classification Report\n",
            "              precision    recall  f1-score   support\n",
            "\n",
            "     neutral       0.69      0.68      0.68        65\n",
            "         sad       0.70      0.82      0.75        71\n",
            "        fear       0.74      0.68      0.71        66\n",
            "       happy       0.76      0.69      0.72        68\n",
            "\n",
            "    accuracy                           0.72       270\n",
            "   macro avg       0.72      0.72      0.72       270\n",
            "weighted avg       0.72      0.72      0.72       270\n",
            "\n"
          ],
          "name": "stdout"
        }
      ]
    },
    {
      "cell_type": "code",
      "metadata": {
        "id": "VKJa_v_SbiIG",
        "colab_type": "code",
        "colab": {
          "base_uri": "https://localhost:8080/",
          "height": 880
        },
        "outputId": "a5ec0897-96d5-417f-a807-ac3d04ca880a"
      },
      "source": [
        "# Use heatmap to color the results for the confusion matrix above\n",
        "import seaborn as sns\n",
        "\n",
        "\n",
        "plt.subplots(figsize=(20,15))\n",
        "#sns.heatmap(confusion_matrix(test_generator.classes, y_pred))\n",
        "sns.heatmap(confusion_matrix(y_test_2, y_predict_2))"
      ],
      "execution_count": null,
      "outputs": [
        {
          "output_type": "execute_result",
          "data": {
            "text/plain": [
              "<matplotlib.axes._subplots.AxesSubplot at 0x7f410b227278>"
            ]
          },
          "metadata": {
            "tags": []
          },
          "execution_count": 101
        },
        {
          "output_type": "display_data",
          "data": {
            "image/png": "[encoded data removed]",
            "text/plain": [
              "<Figure size 1440x1080 with 2 Axes>"
            ]
          },
          "metadata": {
            "tags": [],
            "needs_background": "light"
          }
        }
      ]
    },
    {
      "cell_type": "markdown",
      "metadata": {
        "id": "LTsIF4xaVJkf",
        "colab_type": "text"
      },
      "source": [
        "References:\n",
        "# https://github.com/Song-zhenzhen/EEG_emotion_classification_use_CNN-and-RNN/blob/master/CNN%2BRNN.py"
      ]
    }
  ]
}
