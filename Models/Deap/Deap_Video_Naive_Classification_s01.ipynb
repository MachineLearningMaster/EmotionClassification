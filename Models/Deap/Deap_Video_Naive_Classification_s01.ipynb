{
  "nbformat": 4,
  "nbformat_minor": 0,
  "metadata": {
    "colab": {
      "name": "Deap_Video_Naive_Classification_s01.ipynb",
      "provenance": [],
      "collapsed_sections": []
    },
    "kernelspec": {
      "name": "python3",
      "display_name": "Python 3"
    },
    "accelerator": "GPU"
  },
  "cells": [
    {
      "cell_type": "markdown",
      "metadata": {
        "id": "D50Ce48m9Xh1",
        "colab_type": "text"
      },
      "source": [
        "This notebook is to classification Valence data into high (1) and low (0)categories by using video data for each trial which is broken into frames at 1 sec interval"
      ]
    },
    {
      "cell_type": "code",
      "metadata": {
        "id": "wfwrRZZJR9je",
        "colab_type": "code",
        "colab": {
          "base_uri": "https://localhost:8080/",
          "height": 34
        },
        "outputId": "1e4b66e5-7c7d-4084-eccf-bebfc744bbcc"
      },
      "source": [
        "# import the necessary packages\n",
        "from keras.models import load_model\n",
        "from collections import deque\n",
        "import numpy as np\n",
        "import argparse\n",
        "import pickle\n",
        "\n",
        "import os\n",
        "\n",
        "import cv2     # for capturing videos\n",
        "import math   # for mathematical operations\n",
        "import matplotlib.pyplot as plt    # for plotting the images\n",
        "%matplotlib inline\n",
        "import pandas as pd\n",
        "from keras.preprocessing import image   # for preprocessing the images\n",
        "import numpy as np    # for mathematical operations\n",
        "from keras.utils import np_utils\n",
        "from skimage.transform import resize   # for resizing images\n",
        "\n",
        "from keras.models import Sequential\n",
        "from keras.applications.vgg16 import VGG16\n",
        "from keras.layers import Dense, InputLayer, Dropout\n",
        "from sklearn.model_selection import train_test_split\n",
        "from keras.applications.vgg16 import preprocess_input\n",
        "\n",
        "import pickle\n",
        "\n",
        "import sys\n",
        "import sklearn\n",
        "from sklearn.metrics import precision_score\n",
        "from sklearn.metrics import recall_score\n",
        "from sklearn.metrics import roc_auc_score\n",
        "from sklearn.metrics import f1_score\n",
        "from sklearn.metrics import confusion_matrix\n",
        "from sklearn.metrics import roc_curve\n",
        "from sklearn.metrics import auc\n",
        "\n",
        "import tensorflow as tf\n",
        "#import tensorflow.compat.v1 as tf\n",
        "#tf.disable_v2_behavior() \n",
        "\n",
        "import time\n",
        "import math\n",
        "\n",
        "from sklearn import preprocessing\n",
        "from sklearn.model_selection import StratifiedKFold, train_test_split\n",
        "\n",
        "#import tensorflow as tf\n",
        "from keras.models import Model\n",
        "from keras import layers\n",
        "from keras import Input\n",
        "from keras.utils import plot_model\n",
        "\n",
        "#from tensorflow.keras import layers\n",
        "from keras.layers import Conv1D, Conv2D, Conv3D, GRU, GlobalAveragePooling1D, Activation, Flatten, Dropout, Dense, MaxPool1D, MaxPool2D, Concatenate, ZeroPadding2D, ZeroPadding1D, Reshape\n",
        "# import BatchNormalization\n",
        "from keras.layers.normalization import BatchNormalization\n",
        "from keras.callbacks import EarlyStopping\n",
        "from keras import backend\n",
        "\n",
        "# tools for plotting confusion matrices\n",
        "from matplotlib import pyplot as plt\n",
        "\n",
        "from keras.optimizers import SGD, Adam\n",
        "\n",
        "import scipy.io as sio"
      ],
      "execution_count": null,
      "outputs": [
        {
          "output_type": "stream",
          "text": [
            "Using TensorFlow backend.\n"
          ],
          "name": "stderr"
        }
      ]
    },
    {
      "cell_type": "code",
      "metadata": {
        "id": "t70-1p_aSHvt",
        "colab_type": "code",
        "colab": {
          "base_uri": "https://localhost:8080/",
          "height": 125
        },
        "outputId": "e4c63ed1-c8a0-4d5a-ac93-a7a73b6546f2"
      },
      "source": [
        "from google.colab import drive\n",
        "drive.mount('/content/drive')"
      ],
      "execution_count": null,
      "outputs": [
        {
          "output_type": "stream",
          "text": [
            "Go to this URL in a browser: https://accounts.google.com/o/oauth2/auth?client_id=947318989803-6bn6qk8qdgf4n4g3pfee6491hc0brc4i.apps.googleusercontent.com&redirect_uri=urn%3aietf%3awg%3aoauth%3a2.0%3aoob&response_type=code&scope=email%20https%3a%2f%2fwww.googleapis.com%2fauth%2fdocs.test%20https%3a%2f%2fwww.googleapis.com%2fauth%2fdrive%20https%3a%2f%2fwww.googleapis.com%2fauth%2fdrive.photos.readonly%20https%3a%2f%2fwww.googleapis.com%2fauth%2fpeopleapi.readonly\n",
            "\n",
            "Enter your authorization code:\n",
            "··········\n",
            "Mounted at /content/drive\n"
          ],
          "name": "stdout"
        }
      ]
    },
    {
      "cell_type": "markdown",
      "metadata": {
        "id": "2isUzV87xzva",
        "colab_type": "text"
      },
      "source": [
        "Refer to Deap_Video_V2.ipynb to see how the 2 pkl files below were extracted from video data"
      ]
    },
    {
      "cell_type": "code",
      "metadata": {
        "id": "LvAXijfT53Hb",
        "colab_type": "code",
        "colab": {}
      },
      "source": [
        "with open('/content/drive/My Drive/Deap/X_array_s01.pkl', \"wb\") as fp:\n",
        "  pickle.dump( X,fp, protocol=4)\n",
        "\n",
        "with open('/content/drive/My Drive/Deap/y_s01.pkl', \"wb\") as fp:\n",
        "  pickle.dump( dummy_y,fp, protocol=4)"
      ],
      "execution_count": null,
      "outputs": []
    },
    {
      "cell_type": "code",
      "metadata": {
        "id": "0bkwMNGEsKV9",
        "colab_type": "code",
        "colab": {
          "base_uri": "https://localhost:8080/",
          "height": 34
        },
        "outputId": "b108d9de-ee87-4bd1-ac37-49af0cb448e0"
      },
      "source": [
        "X.shape"
      ],
      "execution_count": null,
      "outputs": [
        {
          "output_type": "execute_result",
          "data": {
            "text/plain": [
              "(2398, 576, 720, 3)"
            ]
          },
          "metadata": {
            "tags": []
          },
          "execution_count": 8
        }
      ]
    },
    {
      "cell_type": "code",
      "metadata": {
        "id": "4HHToI0ytTxi",
        "colab_type": "code",
        "colab": {}
      },
      "source": [
        "#Our next step is to read the images which we will do based on their names, aka, the Image_ID_Frame column.\n",
        "image = []\n",
        "for i in range(0,X.shape[0]):\n",
        "    a = resize(X[i], preserve_range=True, output_shape=(224,224)).astype(int)      # reshaping to 224*224*3\n",
        "    image.append(a)\n",
        "X = np.array(image)\n",
        "\n",
        "#before passing any input to the model, we must preprocess it as per the model’s requirement. Otherwise, the model will not perform well enough. Use the preprocess_input() function of keras.applications.vgg16 to perform this step.\n",
        "from keras.applications.vgg16 import preprocess_input\n",
        "X = preprocess_input(X, mode='tf')      # preprocessing the input data\n",
        "\n"
      ],
      "execution_count": null,
      "outputs": []
    },
    {
      "cell_type": "code",
      "metadata": {
        "id": "nG21HEVtuFDR",
        "colab_type": "code",
        "colab": {
          "base_uri": "https://localhost:8080/",
          "height": 34
        },
        "outputId": "077ec734-7866-4b07-f4b6-e7972616ef2d"
      },
      "source": [
        "# Validate the shape\n",
        "X.shape"
      ],
      "execution_count": null,
      "outputs": [
        {
          "output_type": "execute_result",
          "data": {
            "text/plain": [
              "(2398, 224, 224, 3)"
            ]
          },
          "metadata": {
            "tags": []
          },
          "execution_count": 13
        }
      ]
    },
    {
      "cell_type": "code",
      "metadata": {
        "id": "xBckx6OIsMpA",
        "colab_type": "code",
        "colab": {
          "base_uri": "https://localhost:8080/",
          "height": 34
        },
        "outputId": "c50cd1ab-710b-4f0b-f6ed-5666220fa09e"
      },
      "source": [
        "y.shape[0]"
      ],
      "execution_count": null,
      "outputs": [
        {
          "output_type": "execute_result",
          "data": {
            "text/plain": [
              "2398"
            ]
          },
          "metadata": {
            "tags": []
          },
          "execution_count": 14
        }
      ]
    },
    {
      "cell_type": "code",
      "metadata": {
        "id": "BF_f1pJWiCkX",
        "colab_type": "code",
        "colab": {}
      },
      "source": [
        "# SPlit dataset into training-test\n",
        "\n",
        "msk = np.random.rand(y.shape[0]) < 0.8\n",
        "\n",
        "data_train = X[msk]\n",
        "y_train=y[msk]\n",
        "data_test = X[~msk]\n",
        "y_test=y[~msk]"
      ],
      "execution_count": null,
      "outputs": []
    },
    {
      "cell_type": "code",
      "metadata": {
        "id": "8-AJLJyU8Nk2",
        "colab_type": "code",
        "colab": {
          "base_uri": "https://localhost:8080/",
          "height": 34
        },
        "outputId": "d114d391-a03d-471a-b8d5-530a8bd25e0a"
      },
      "source": [
        "data_test.shape"
      ],
      "execution_count": null,
      "outputs": [
        {
          "output_type": "execute_result",
          "data": {
            "text/plain": [
              "(493, 224, 224, 3)"
            ]
          },
          "metadata": {
            "tags": []
          },
          "execution_count": 39
        }
      ]
    },
    {
      "cell_type": "code",
      "metadata": {
        "id": "cabKiT_QutHi",
        "colab_type": "code",
        "colab": {
          "base_uri": "https://localhost:8080/",
          "height": 34
        },
        "outputId": "7ca8da01-967a-4064-c1ab-4cb657e9dc45"
      },
      "source": [
        "y_test.shape"
      ],
      "execution_count": null,
      "outputs": [
        {
          "output_type": "execute_result",
          "data": {
            "text/plain": [
              "(493, 2)"
            ]
          },
          "metadata": {
            "tags": []
          },
          "execution_count": 38
        }
      ]
    },
    {
      "cell_type": "code",
      "metadata": {
        "id": "1FA7WZkF8I6t",
        "colab_type": "code",
        "colab": {
          "base_uri": "https://localhost:8080/",
          "height": 34
        },
        "outputId": "3f0a35aa-f8e6-4252-e550-cea8193febe6"
      },
      "source": [
        "data_train.shape"
      ],
      "execution_count": null,
      "outputs": [
        {
          "output_type": "execute_result",
          "data": {
            "text/plain": [
              "(1905, 224, 224, 3)"
            ]
          },
          "metadata": {
            "tags": []
          },
          "execution_count": 40
        }
      ]
    },
    {
      "cell_type": "code",
      "metadata": {
        "id": "tYU6nDFluwHz",
        "colab_type": "code",
        "colab": {
          "base_uri": "https://localhost:8080/",
          "height": 34
        },
        "outputId": "56f4599d-8fcf-4dcc-fce9-73ee0d35de9f"
      },
      "source": [
        "y_train.shape"
      ],
      "execution_count": null,
      "outputs": [
        {
          "output_type": "execute_result",
          "data": {
            "text/plain": [
              "(1333, 2)"
            ]
          },
          "metadata": {
            "tags": []
          },
          "execution_count": 41
        }
      ]
    },
    {
      "cell_type": "code",
      "metadata": {
        "id": "sgQ6fNGds1S8",
        "colab_type": "code",
        "colab": {
          "base_uri": "https://localhost:8080/",
          "height": 70
        },
        "outputId": "cb260bd7-27a0-4303-b88e-0c0542b9ab46"
      },
      "source": [
        "print (\"now train-test split data\")\n",
        "\n",
        "X_train, X_valid, y_train, y_valid = train_test_split(data_train, y_train, test_size=0.3, random_state=42)    # preparing the validation set\n",
        "\n",
        "base_model = VGG16(weights='imagenet', include_top=False, input_shape=(224, 224, 3))    # include_top=False to remove the top layer\n",
        "\n",
        "print (\"predict\")\n",
        "\n",
        "#We will make predictions using this model for X_train and X_valid, get the features, and then use those features to retrain the model.\n",
        "X_train = base_model.predict(X_train)\n",
        "X_valid = base_model.predict(X_valid)\n",
        "X_test = base_model.predict(data_test)\n",
        "X_train.shape, X_valid.shape, X_test.shape"
      ],
      "execution_count": null,
      "outputs": [
        {
          "output_type": "stream",
          "text": [
            "now train-test split data\n",
            "predict\n"
          ],
          "name": "stdout"
        },
        {
          "output_type": "execute_result",
          "data": {
            "text/plain": [
              "((1333, 7, 7, 512), (572, 7, 7, 512), (493, 7, 7, 512))"
            ]
          },
          "metadata": {
            "tags": []
          },
          "execution_count": 34
        }
      ]
    },
    {
      "cell_type": "code",
      "metadata": {
        "id": "rMAPLnZ1Cist",
        "colab_type": "code",
        "colab": {
          "base_uri": "https://localhost:8080/",
          "height": 1000
        },
        "outputId": "7091af75-9f28-4b78-e53c-ab38909e0990"
      },
      "source": [
        "#The shape of X_train and X_valid is (1333, 7, 7, 512), (572, 7, 7, 512) respectively. In order to pass it to our neural network, we have to reshape it to 1-D.\n",
        "\n",
        "X_train = X_train.reshape(X_train.shape[0], 7*7*512)      # converting to 1-D\n",
        "X_valid = X_valid.reshape(X_valid.shape[0], 7*7*512)\n",
        "X_test= X_test.reshape(X_test.shape[0], 7*7*512)\n",
        "\n",
        "# We will now preprocess the images and make them zero-centered which helps the model to converge faster.\n",
        "\n",
        "X_train = X_train/X_train.max()      # centering the data\n",
        "X_valid = X_valid/X_train.max()\n",
        "X_test = X_test/X_test.max() \n",
        "\n",
        "# Finally, we will build our model. This step can be divided into 3 sub-steps:\n",
        "# i. Building the model\n",
        "model = Sequential()\n",
        "model.add(InputLayer((7*7*512,)))    # input layer\n",
        "model.add(Dense(units=1024, activation='sigmoid')) # hidden layer\n",
        "model.add(Dense(2, activation='softmax'))    # output layer\n",
        "\n",
        "model.summary()\n",
        "\n",
        "#We have a hidden layer with 1,024 neurons and an output layer with 2 neurons (since we have 2 classes to predict). Now we will compile our model:\n",
        "\n",
        "model.compile(loss='binary_crossentropy', optimizer='adam', metrics=['accuracy'])\n",
        "\n",
        "# In the final step, we will fit the model and simultaneously also check its performance on the unseen images, i.e., validation images:\n",
        "print (\"fitting\")\n",
        "#Training the model\n",
        "model.fit(X_train, y_train, epochs=100, validation_data=(X_valid, y_valid))\n",
        "\n",
        "test_loss, test_acc = model.evaluate(X_test, y_test)\n",
        "print('test_acc:', test_acc)"
      ],
      "execution_count": null,
      "outputs": [
        {
          "output_type": "stream",
          "text": [
            "Model: \"sequential_2\"\n",
            "_________________________________________________________________\n",
            "Layer (type)                 Output Shape              Param #   \n",
            "=================================================================\n",
            "dense_3 (Dense)              (None, 1024)              25691136  \n",
            "_________________________________________________________________\n",
            "dense_4 (Dense)              (None, 2)                 2050      \n",
            "=================================================================\n",
            "Total params: 25,693,186\n",
            "Trainable params: 25,693,186\n",
            "Non-trainable params: 0\n",
            "_________________________________________________________________\n",
            "fitting\n",
            "Train on 1333 samples, validate on 572 samples\n",
            "Epoch 1/100\n",
            "1333/1333 [==============================] - 1s 467us/step - loss: 0.7391 - accuracy: 0.6579 - val_loss: 1.0796 - val_accuracy: 0.7343\n",
            "Epoch 2/100\n",
            "1333/1333 [==============================] - 1s 394us/step - loss: 0.4724 - accuracy: 0.7854 - val_loss: 1.0944 - val_accuracy: 0.7692\n",
            "Epoch 3/100\n",
            "1333/1333 [==============================] - 1s 385us/step - loss: 0.4265 - accuracy: 0.8080 - val_loss: 1.1295 - val_accuracy: 0.7797\n",
            "Epoch 4/100\n",
            "1333/1333 [==============================] - 1s 398us/step - loss: 0.4282 - accuracy: 0.7997 - val_loss: 1.2251 - val_accuracy: 0.7902\n",
            "Epoch 5/100\n",
            "1333/1333 [==============================] - 1s 386us/step - loss: 0.3869 - accuracy: 0.8327 - val_loss: 1.8901 - val_accuracy: 0.7185\n",
            "Epoch 6/100\n",
            "1333/1333 [==============================] - 1s 387us/step - loss: 0.4579 - accuracy: 0.7817 - val_loss: 0.5813 - val_accuracy: 0.8042\n",
            "Epoch 7/100\n",
            "1333/1333 [==============================] - 1s 384us/step - loss: 0.3336 - accuracy: 0.8567 - val_loss: 0.3432 - val_accuracy: 0.8444\n",
            "Epoch 8/100\n",
            "1333/1333 [==============================] - 1s 383us/step - loss: 0.3338 - accuracy: 0.8590 - val_loss: 0.4140 - val_accuracy: 0.8444\n",
            "Epoch 9/100\n",
            "1333/1333 [==============================] - 1s 405us/step - loss: 0.2862 - accuracy: 0.8770 - val_loss: 0.4868 - val_accuracy: 0.8531\n",
            "Epoch 10/100\n",
            "1333/1333 [==============================] - 1s 384us/step - loss: 0.2595 - accuracy: 0.8950 - val_loss: 0.5287 - val_accuracy: 0.8811\n",
            "Epoch 11/100\n",
            "1333/1333 [==============================] - 1s 391us/step - loss: 0.2631 - accuracy: 0.9002 - val_loss: 0.4550 - val_accuracy: 0.9056\n",
            "Epoch 12/100\n",
            "1333/1333 [==============================] - 1s 397us/step - loss: 0.2227 - accuracy: 0.9152 - val_loss: 0.5234 - val_accuracy: 0.9056\n",
            "Epoch 13/100\n",
            "1333/1333 [==============================] - 1s 384us/step - loss: 0.2300 - accuracy: 0.9145 - val_loss: 0.5382 - val_accuracy: 0.9108\n",
            "Epoch 14/100\n",
            "1333/1333 [==============================] - 1s 403us/step - loss: 0.1971 - accuracy: 0.9392 - val_loss: 0.5349 - val_accuracy: 0.9126\n",
            "Epoch 15/100\n",
            "1333/1333 [==============================] - 1s 392us/step - loss: 0.2696 - accuracy: 0.8815 - val_loss: 0.8054 - val_accuracy: 0.8671\n",
            "Epoch 16/100\n",
            "1333/1333 [==============================] - 1s 382us/step - loss: 0.1845 - accuracy: 0.9362 - val_loss: 1.3606 - val_accuracy: 0.7937\n",
            "Epoch 17/100\n",
            "1333/1333 [==============================] - 1s 395us/step - loss: 0.1827 - accuracy: 0.9302 - val_loss: 0.4469 - val_accuracy: 0.9336\n",
            "Epoch 18/100\n",
            "1333/1333 [==============================] - 1s 391us/step - loss: 0.1510 - accuracy: 0.9587 - val_loss: 0.4905 - val_accuracy: 0.9266\n",
            "Epoch 19/100\n",
            "1333/1333 [==============================] - 1s 393us/step - loss: 0.1661 - accuracy: 0.9377 - val_loss: 0.4806 - val_accuracy: 0.9336\n",
            "Epoch 20/100\n",
            "1333/1333 [==============================] - 1s 389us/step - loss: 0.1293 - accuracy: 0.9602 - val_loss: 0.4189 - val_accuracy: 0.9476\n",
            "Epoch 21/100\n",
            "1333/1333 [==============================] - 1s 391us/step - loss: 0.1287 - accuracy: 0.9580 - val_loss: 0.4122 - val_accuracy: 0.9388\n",
            "Epoch 22/100\n",
            "1333/1333 [==============================] - 1s 401us/step - loss: 0.1283 - accuracy: 0.9625 - val_loss: 0.3614 - val_accuracy: 0.9493\n",
            "Epoch 23/100\n",
            "1333/1333 [==============================] - 1s 394us/step - loss: 0.1157 - accuracy: 0.9685 - val_loss: 0.3539 - val_accuracy: 0.9510\n",
            "Epoch 24/100\n",
            "1333/1333 [==============================] - 1s 389us/step - loss: 0.1172 - accuracy: 0.9625 - val_loss: 0.4590 - val_accuracy: 0.9476\n",
            "Epoch 25/100\n",
            "1333/1333 [==============================] - 1s 390us/step - loss: 0.1232 - accuracy: 0.9557 - val_loss: 1.1563 - val_accuracy: 0.8794\n",
            "Epoch 26/100\n",
            "1333/1333 [==============================] - 1s 386us/step - loss: 0.1231 - accuracy: 0.9505 - val_loss: 0.2734 - val_accuracy: 0.9563\n",
            "Epoch 27/100\n",
            "1333/1333 [==============================] - 1s 390us/step - loss: 0.1068 - accuracy: 0.9647 - val_loss: 0.3495 - val_accuracy: 0.9545\n",
            "Epoch 28/100\n",
            "1333/1333 [==============================] - 1s 398us/step - loss: 0.1053 - accuracy: 0.9670 - val_loss: 0.7904 - val_accuracy: 0.9091\n",
            "Epoch 29/100\n",
            "1333/1333 [==============================] - 1s 383us/step - loss: 0.1487 - accuracy: 0.9385 - val_loss: 0.4762 - val_accuracy: 0.9336\n",
            "Epoch 30/100\n",
            "1333/1333 [==============================] - 1s 401us/step - loss: 0.1305 - accuracy: 0.9460 - val_loss: 0.2493 - val_accuracy: 0.9615\n",
            "Epoch 31/100\n",
            "1333/1333 [==============================] - 1s 384us/step - loss: 0.0806 - accuracy: 0.9745 - val_loss: 0.4835 - val_accuracy: 0.9353\n",
            "Epoch 32/100\n",
            "1333/1333 [==============================] - 1s 388us/step - loss: 0.0699 - accuracy: 0.9797 - val_loss: 0.8201 - val_accuracy: 0.9161\n",
            "Epoch 33/100\n",
            "1333/1333 [==============================] - 1s 395us/step - loss: 0.0799 - accuracy: 0.9760 - val_loss: 0.2973 - val_accuracy: 0.9650\n",
            "Epoch 34/100\n",
            "1333/1333 [==============================] - 1s 389us/step - loss: 0.0560 - accuracy: 0.9880 - val_loss: 0.5913 - val_accuracy: 0.9318\n",
            "Epoch 35/100\n",
            "1333/1333 [==============================] - 1s 390us/step - loss: 0.0915 - accuracy: 0.9640 - val_loss: 0.3419 - val_accuracy: 0.9563\n",
            "Epoch 36/100\n",
            "1333/1333 [==============================] - 1s 394us/step - loss: 0.0583 - accuracy: 0.9872 - val_loss: 0.3483 - val_accuracy: 0.9615\n",
            "Epoch 37/100\n",
            "1333/1333 [==============================] - 1s 398us/step - loss: 0.0634 - accuracy: 0.9835 - val_loss: 0.2911 - val_accuracy: 0.9668\n",
            "Epoch 38/100\n",
            "1333/1333 [==============================] - 1s 402us/step - loss: 0.0417 - accuracy: 0.9932 - val_loss: 0.3930 - val_accuracy: 0.9528\n",
            "Epoch 39/100\n",
            "1333/1333 [==============================] - 1s 391us/step - loss: 0.0524 - accuracy: 0.9902 - val_loss: 0.4203 - val_accuracy: 0.9510\n",
            "Epoch 40/100\n",
            "1333/1333 [==============================] - 1s 393us/step - loss: 0.0530 - accuracy: 0.9850 - val_loss: 0.3810 - val_accuracy: 0.9598\n",
            "Epoch 41/100\n",
            "1333/1333 [==============================] - 1s 399us/step - loss: 0.0590 - accuracy: 0.9782 - val_loss: 0.3150 - val_accuracy: 0.9633\n",
            "Epoch 42/100\n",
            "1333/1333 [==============================] - 1s 385us/step - loss: 0.0468 - accuracy: 0.9880 - val_loss: 1.0226 - val_accuracy: 0.8916\n",
            "Epoch 43/100\n",
            "1333/1333 [==============================] - 1s 392us/step - loss: 0.0443 - accuracy: 0.9887 - val_loss: 0.3529 - val_accuracy: 0.9650\n",
            "Epoch 44/100\n",
            "1333/1333 [==============================] - 1s 387us/step - loss: 0.0409 - accuracy: 0.9872 - val_loss: 0.3002 - val_accuracy: 0.9685\n",
            "Epoch 45/100\n",
            "1333/1333 [==============================] - 1s 383us/step - loss: 0.0361 - accuracy: 0.9917 - val_loss: 0.3990 - val_accuracy: 0.9545\n",
            "Epoch 46/100\n",
            "1333/1333 [==============================] - 1s 399us/step - loss: 0.0415 - accuracy: 0.9865 - val_loss: 0.4215 - val_accuracy: 0.9615\n",
            "Epoch 47/100\n",
            "1333/1333 [==============================] - 1s 387us/step - loss: 0.0341 - accuracy: 0.9917 - val_loss: 0.3756 - val_accuracy: 0.9615\n",
            "Epoch 48/100\n",
            "1333/1333 [==============================] - 1s 385us/step - loss: 0.0336 - accuracy: 0.9895 - val_loss: 0.3257 - val_accuracy: 0.9650\n",
            "Epoch 49/100\n",
            "1333/1333 [==============================] - 1s 396us/step - loss: 0.0449 - accuracy: 0.9887 - val_loss: 0.4126 - val_accuracy: 0.9493\n",
            "Epoch 50/100\n",
            "1333/1333 [==============================] - 1s 389us/step - loss: 0.0359 - accuracy: 0.9880 - val_loss: 0.3083 - val_accuracy: 0.9703\n",
            "Epoch 51/100\n",
            "1333/1333 [==============================] - 1s 385us/step - loss: 0.0913 - accuracy: 0.9610 - val_loss: 0.3042 - val_accuracy: 0.9668\n",
            "Epoch 52/100\n",
            "1333/1333 [==============================] - 1s 380us/step - loss: 0.0315 - accuracy: 0.9895 - val_loss: 0.5416 - val_accuracy: 0.9423\n",
            "Epoch 53/100\n",
            "1333/1333 [==============================] - 1s 384us/step - loss: 0.0234 - accuracy: 0.9962 - val_loss: 0.5787 - val_accuracy: 0.9423\n",
            "Epoch 54/100\n",
            "1333/1333 [==============================] - 1s 394us/step - loss: 0.0259 - accuracy: 0.9940 - val_loss: 0.5326 - val_accuracy: 0.9406\n",
            "Epoch 55/100\n",
            "1333/1333 [==============================] - 1s 397us/step - loss: 0.0321 - accuracy: 0.9910 - val_loss: 0.4661 - val_accuracy: 0.9441\n",
            "Epoch 56/100\n",
            "1333/1333 [==============================] - 1s 390us/step - loss: 0.0258 - accuracy: 0.9940 - val_loss: 0.4556 - val_accuracy: 0.9458\n",
            "Epoch 57/100\n",
            "1333/1333 [==============================] - 1s 398us/step - loss: 0.0187 - accuracy: 0.9977 - val_loss: 0.3116 - val_accuracy: 0.9668\n",
            "Epoch 58/100\n",
            "1333/1333 [==============================] - 1s 381us/step - loss: 0.0155 - accuracy: 0.9992 - val_loss: 0.2693 - val_accuracy: 0.9703\n",
            "Epoch 59/100\n",
            "1333/1333 [==============================] - 1s 393us/step - loss: 0.0320 - accuracy: 0.9932 - val_loss: 1.6337 - val_accuracy: 0.8427\n",
            "Epoch 60/100\n",
            "1333/1333 [==============================] - 1s 384us/step - loss: 0.0237 - accuracy: 0.9970 - val_loss: 0.2930 - val_accuracy: 0.9720\n",
            "Epoch 61/100\n",
            "1333/1333 [==============================] - 1s 386us/step - loss: 0.0154 - accuracy: 0.9977 - val_loss: 0.4898 - val_accuracy: 0.9458\n",
            "Epoch 62/100\n",
            "1333/1333 [==============================] - 1s 393us/step - loss: 0.0156 - accuracy: 0.9992 - val_loss: 0.3005 - val_accuracy: 0.9738\n",
            "Epoch 63/100\n",
            "1333/1333 [==============================] - 1s 386us/step - loss: 0.0123 - accuracy: 0.9992 - val_loss: 0.4964 - val_accuracy: 0.9598\n",
            "Epoch 64/100\n",
            "1333/1333 [==============================] - 1s 387us/step - loss: 0.0190 - accuracy: 0.9962 - val_loss: 0.2748 - val_accuracy: 0.9738\n",
            "Epoch 65/100\n",
            "1333/1333 [==============================] - 1s 398us/step - loss: 0.0398 - accuracy: 0.9887 - val_loss: 0.4610 - val_accuracy: 0.9598\n",
            "Epoch 66/100\n",
            "1333/1333 [==============================] - 1s 383us/step - loss: 0.0626 - accuracy: 0.9707 - val_loss: 0.2133 - val_accuracy: 0.9720\n",
            "Epoch 67/100\n",
            "1333/1333 [==============================] - 1s 396us/step - loss: 0.0445 - accuracy: 0.9812 - val_loss: 0.3327 - val_accuracy: 0.9650\n",
            "Epoch 68/100\n",
            "1333/1333 [==============================] - 1s 391us/step - loss: 0.0137 - accuracy: 0.9977 - val_loss: 0.3381 - val_accuracy: 0.9563\n",
            "Epoch 69/100\n",
            "1333/1333 [==============================] - 1s 384us/step - loss: 0.0104 - accuracy: 0.9992 - val_loss: 0.2714 - val_accuracy: 0.9633\n",
            "Epoch 70/100\n",
            "1333/1333 [==============================] - 1s 397us/step - loss: 0.0091 - accuracy: 1.0000 - val_loss: 0.2963 - val_accuracy: 0.9650\n",
            "Epoch 71/100\n",
            "1333/1333 [==============================] - 1s 385us/step - loss: 0.0155 - accuracy: 0.9977 - val_loss: 0.3128 - val_accuracy: 0.9738\n",
            "Epoch 72/100\n",
            "1333/1333 [==============================] - 1s 389us/step - loss: 0.0251 - accuracy: 0.9932 - val_loss: 0.2888 - val_accuracy: 0.9720\n",
            "Epoch 73/100\n",
            "1333/1333 [==============================] - 1s 404us/step - loss: 0.0170 - accuracy: 0.9985 - val_loss: 0.2795 - val_accuracy: 0.9720\n",
            "Epoch 74/100\n",
            "1333/1333 [==============================] - 1s 383us/step - loss: 0.0071 - accuracy: 1.0000 - val_loss: 0.3101 - val_accuracy: 0.9738\n",
            "Epoch 75/100\n",
            "1333/1333 [==============================] - 1s 396us/step - loss: 0.0066 - accuracy: 1.0000 - val_loss: 0.2880 - val_accuracy: 0.9720\n",
            "Epoch 76/100\n",
            "1333/1333 [==============================] - 1s 398us/step - loss: 0.0062 - accuracy: 1.0000 - val_loss: 0.3195 - val_accuracy: 0.9720\n",
            "Epoch 77/100\n",
            "1333/1333 [==============================] - 1s 383us/step - loss: 0.0085 - accuracy: 0.9992 - val_loss: 0.4766 - val_accuracy: 0.9615\n",
            "Epoch 78/100\n",
            "1333/1333 [==============================] - 1s 402us/step - loss: 0.0160 - accuracy: 0.9955 - val_loss: 0.2984 - val_accuracy: 0.9650\n",
            "Epoch 79/100\n",
            "1333/1333 [==============================] - 1s 383us/step - loss: 0.0054 - accuracy: 1.0000 - val_loss: 0.3204 - val_accuracy: 0.9738\n",
            "Epoch 80/100\n",
            "1333/1333 [==============================] - 1s 395us/step - loss: 0.0088 - accuracy: 1.0000 - val_loss: 0.3313 - val_accuracy: 0.9685\n",
            "Epoch 81/100\n",
            "1333/1333 [==============================] - 1s 390us/step - loss: 0.0056 - accuracy: 1.0000 - val_loss: 0.2865 - val_accuracy: 0.9755\n",
            "Epoch 82/100\n",
            "1333/1333 [==============================] - 1s 388us/step - loss: 0.0064 - accuracy: 1.0000 - val_loss: 0.3030 - val_accuracy: 0.9720\n",
            "Epoch 83/100\n",
            "1333/1333 [==============================] - 1s 390us/step - loss: 0.0048 - accuracy: 1.0000 - val_loss: 0.3080 - val_accuracy: 0.9720\n",
            "Epoch 84/100\n",
            "1333/1333 [==============================] - 1s 388us/step - loss: 0.0053 - accuracy: 1.0000 - val_loss: 0.2890 - val_accuracy: 0.9720\n",
            "Epoch 85/100\n",
            "1333/1333 [==============================] - 1s 380us/step - loss: 0.0041 - accuracy: 1.0000 - val_loss: 0.2977 - val_accuracy: 0.9685\n",
            "Epoch 86/100\n",
            "1333/1333 [==============================] - 1s 399us/step - loss: 0.0062 - accuracy: 1.0000 - val_loss: 0.3321 - val_accuracy: 0.9720\n",
            "Epoch 87/100\n",
            "1333/1333 [==============================] - 1s 383us/step - loss: 0.0050 - accuracy: 1.0000 - val_loss: 0.2775 - val_accuracy: 0.9720\n",
            "Epoch 88/100\n",
            "1333/1333 [==============================] - 1s 391us/step - loss: 0.0040 - accuracy: 1.0000 - val_loss: 0.3300 - val_accuracy: 0.9755\n",
            "Epoch 89/100\n",
            "1333/1333 [==============================] - 1s 393us/step - loss: 0.0045 - accuracy: 1.0000 - val_loss: 0.3408 - val_accuracy: 0.9755\n",
            "Epoch 90/100\n",
            "1333/1333 [==============================] - 1s 385us/step - loss: 0.0070 - accuracy: 1.0000 - val_loss: 0.3235 - val_accuracy: 0.9703\n",
            "Epoch 91/100\n",
            "1333/1333 [==============================] - 1s 386us/step - loss: 0.0036 - accuracy: 1.0000 - val_loss: 0.3622 - val_accuracy: 0.9598\n",
            "Epoch 92/100\n",
            "1333/1333 [==============================] - 1s 392us/step - loss: 0.0048 - accuracy: 1.0000 - val_loss: 0.2814 - val_accuracy: 0.9720\n",
            "Epoch 93/100\n",
            "1333/1333 [==============================] - 1s 381us/step - loss: 0.0538 - accuracy: 0.9820 - val_loss: 0.6076 - val_accuracy: 0.9371\n",
            "Epoch 94/100\n",
            "1333/1333 [==============================] - 1s 398us/step - loss: 0.0210 - accuracy: 0.9940 - val_loss: 0.3133 - val_accuracy: 0.9703\n",
            "Epoch 95/100\n",
            "1333/1333 [==============================] - 1s 392us/step - loss: 0.0042 - accuracy: 1.0000 - val_loss: 0.2849 - val_accuracy: 0.9720\n",
            "Epoch 96/100\n",
            "1333/1333 [==============================] - 1s 392us/step - loss: 0.0037 - accuracy: 1.0000 - val_loss: 0.2792 - val_accuracy: 0.9720\n",
            "Epoch 97/100\n",
            "1333/1333 [==============================] - 1s 385us/step - loss: 0.0086 - accuracy: 1.0000 - val_loss: 0.3641 - val_accuracy: 0.9720\n",
            "Epoch 98/100\n",
            "1333/1333 [==============================] - 1s 386us/step - loss: 0.0049 - accuracy: 1.0000 - val_loss: 0.2809 - val_accuracy: 0.9720\n",
            "Epoch 99/100\n",
            "1333/1333 [==============================] - 1s 390us/step - loss: 0.0026 - accuracy: 1.0000 - val_loss: 0.2867 - val_accuracy: 0.9703\n",
            "Epoch 100/100\n",
            "1333/1333 [==============================] - 1s 391us/step - loss: 0.0026 - accuracy: 1.0000 - val_loss: 0.2898 - val_accuracy: 0.9703\n",
            "493/493 [==============================] - 0s 106us/step\n",
            "test_acc: 0.9736308455467224\n"
          ],
          "name": "stdout"
        }
      ]
    },
    {
      "cell_type": "markdown",
      "metadata": {
        "id": "g3XpeXV6qrpi",
        "colab_type": "text"
      },
      "source": [
        "Issues encountered in Google Collab with above code:\n",
        "\n",
        "The above code frequently gave error \"Your session crashed after using all available RAM. Hence had to restart with higher RAM\".\n",
        "\n",
        "Another frequently found error was \"A Google Drive timeout has occurred\" "
      ]
    },
    {
      "cell_type": "code",
      "metadata": {
        "id": "ccjz1hUkGoE2",
        "colab_type": "code",
        "colab": {}
      },
      "source": [
        "y_test_predicted = model.predict(X_test)"
      ],
      "execution_count": null,
      "outputs": []
    },
    {
      "cell_type": "code",
      "metadata": {
        "id": "JepEJWHLHRYz",
        "colab_type": "code",
        "colab": {
          "base_uri": "https://localhost:8080/",
          "height": 34
        },
        "outputId": "78c39155-c287-4d41-93d0-091b14eeb6b1"
      },
      "source": [
        "y_test_predicted.shape"
      ],
      "execution_count": null,
      "outputs": [
        {
          "output_type": "execute_result",
          "data": {
            "text/plain": [
              "(493, 2)"
            ]
          },
          "metadata": {
            "tags": []
          },
          "execution_count": 37
        }
      ]
    }
  ]
}